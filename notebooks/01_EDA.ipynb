{
 "cells": [
  {
   "cell_type": "markdown",
   "metadata": {},
   "source": [
    "## Title"
   ]
  },
  {
   "cell_type": "markdown",
   "metadata": {},
   "source": [
    "# Exploratory Data Analysis"
   ]
  },
  {
   "cell_type": "markdown",
   "metadata": {},
   "source": [
    "### Description:"
   ]
  },
  {
   "cell_type": "markdown",
   "metadata": {},
   "source": [
    "In this notebook we will have a first look to the initial dataset, join them in order to work with the full dataset. Next we will perform the Exploratory Data Analysis in order to look up for insights."
   ]
  },
  {
   "cell_type": "markdown",
   "metadata": {},
   "source": [
    "### Authors:\n",
    "\n",
    "#### Hugo Cesar Octavio del Sueldo¶\n",
    "#### Jose Lopez Galdon"
   ]
  },
  {
   "cell_type": "markdown",
   "metadata": {},
   "source": [
    "### Date:\n",
    "15/01/2021\n",
    "### Version:¶\n",
    "1.0"
   ]
  },
  {
   "cell_type": "markdown",
   "metadata": {
    "collapsed": true
   },
   "source": [
    "## Load pySpark"
   ]
  },
  {
   "cell_type": "markdown",
   "metadata": {
    "collapsed": true
   },
   "source": [
    "First of all, we will create the sparkContext and we will create the RDD from our files downloaded from the official website."
   ]
  },
  {
   "cell_type": "code",
   "execution_count": 36,
   "metadata": {},
   "outputs": [],
   "source": [
    "    # Findspark to locate the spark in the system\n",
    "#import findspark\n",
    "#findspark.init()\n",
    "\n",
    "    # Initialize the spark context\n",
    "from pyspark import SparkContext\n",
    "sc = SparkContext.getOrCreate()\n",
    "\n",
    "    # Due to we are going to work with sparkSQL we will introduce the sparksql context\n",
    "from pyspark.sql import SparkSession\n",
    "from pyspark.sql.functions import split, explode\n",
    "from pyspark.sql.functions import *\n",
    "spark = SparkSession.builder.master(\"local[*]\").getOrCreate()\n",
    "\n",
    "    # Visualitation\n",
    "import matplotlib.pyplot as plt\n",
    "import seaborn as sns"
   ]
  },
  {
   "cell_type": "markdown",
   "metadata": {},
   "source": [
    "## Load data"
   ]
  },
  {
   "cell_type": "markdown",
   "metadata": {},
   "source": [
    "Now, we will create objects with the file path"
   ]
  },
  {
   "cell_type": "code",
   "execution_count": 4,
   "metadata": {},
   "outputs": [],
   "source": [
    "data_movies = \"../data/01_raw/movies.csv\"\n",
    "data_ratings = \"../data/01_raw/ratings.csv\""
   ]
  },
  {
   "cell_type": "markdown",
   "metadata": {
    "collapsed": true
   },
   "source": [
    "### Movies dataset"
   ]
  },
  {
   "cell_type": "markdown",
   "metadata": {},
   "source": [
    "**`spark.read`**: It is necesary to load the csv file.\n",
    "- format(\"csv\"): Means the format of the file.\n",
    "\n",
    "- option(\"sep\", \",\"): It establish the kind of spearator, in this case ','.\n",
    "\n",
    "- option(\"inferSchema\", \"true\"): We set spark to infer the type of schema.\n",
    "\n",
    "- option(\"header\", \"true\"): We say to spark that the file has a header.\n",
    "\n",
    "- load(f'{datos_movies}'): Path file.\n",
    "\n",
    "This code was written in Scala."
   ]
  },
  {
   "cell_type": "code",
   "execution_count": 5,
   "metadata": {},
   "outputs": [
    {
     "name": "stdout",
     "output_type": "stream",
     "text": [
      "<class 'pyspark.sql.dataframe.DataFrame'>\n"
     ]
    }
   ],
   "source": [
    "raw_movies = spark.read.format(\"csv\") \\\n",
    "                    .option(\"sep\", \",\") \\\n",
    "                    .option(\"inferSchema\", \"true\") \\\n",
    "                    .option(\"header\", \"true\") \\\n",
    "                    .load(f'{data_movies}')\n",
    "print(type(raw_movies))"
   ]
  },
  {
   "cell_type": "markdown",
   "metadata": {},
   "source": [
    "#### View data"
   ]
  },
  {
   "cell_type": "markdown",
   "metadata": {},
   "source": [
    "Now we have our data file loaded into the raw_movies DataFrame.\n",
    "\n",
    "Without getting into *Spark transformations and actions*, the most basic thing we can do to check that we got our DF contents right is to check the first few entries in our data. We can also count() the number of lines loaded from the file into the DF."
   ]
  },
  {
   "cell_type": "code",
   "execution_count": 6,
   "metadata": {},
   "outputs": [
    {
     "data": {
      "text/plain": [
       "[Row(movieId=1, title='Toy Story (1995)', genres='Adventure|Animation|Children|Comedy|Fantasy'),\n",
       " Row(movieId=2, title='Jumanji (1995)', genres='Adventure|Children|Fantasy'),\n",
       " Row(movieId=3, title='Grumpier Old Men (1995)', genres='Comedy|Romance'),\n",
       " Row(movieId=4, title='Waiting to Exhale (1995)', genres='Comedy|Drama|Romance'),\n",
       " Row(movieId=5, title='Father of the Bride Part II (1995)', genres='Comedy')]"
      ]
     },
     "execution_count": 6,
     "metadata": {},
     "output_type": "execute_result"
    }
   ],
   "source": [
    "     # The first 5 observations with take function\n",
    "raw_movies.take(5)"
   ]
  },
  {
   "cell_type": "code",
   "execution_count": 7,
   "metadata": {},
   "outputs": [
    {
     "data": {
      "text/plain": [
       "58098"
      ]
     },
     "execution_count": 7,
     "metadata": {},
     "output_type": "execute_result"
    }
   ],
   "source": [
    "     # Count the number of observation\n",
    "raw_movies.count()"
   ]
  },
  {
   "cell_type": "markdown",
   "metadata": {},
   "source": [
    "To see the result in more interactive manner (rows under the columns), we can use the show operation"
   ]
  },
  {
   "cell_type": "code",
   "execution_count": 8,
   "metadata": {},
   "outputs": [
    {
     "name": "stdout",
     "output_type": "stream",
     "text": [
      "+-------+--------------------+--------------------+\n",
      "|movieId|               title|              genres|\n",
      "+-------+--------------------+--------------------+\n",
      "|      1|    Toy Story (1995)|Adventure|Animati...|\n",
      "|      2|      Jumanji (1995)|Adventure|Childre...|\n",
      "|      3|Grumpier Old Men ...|      Comedy|Romance|\n",
      "|      4|Waiting to Exhale...|Comedy|Drama|Romance|\n",
      "|      5|Father of the Bri...|              Comedy|\n",
      "|      6|         Heat (1995)|Action|Crime|Thri...|\n",
      "|      7|      Sabrina (1995)|      Comedy|Romance|\n",
      "|      8| Tom and Huck (1995)|  Adventure|Children|\n",
      "|      9| Sudden Death (1995)|              Action|\n",
      "|     10|    GoldenEye (1995)|Action|Adventure|...|\n",
      "|     11|American Presiden...|Comedy|Drama|Romance|\n",
      "|     12|Dracula: Dead and...|       Comedy|Horror|\n",
      "|     13|        Balto (1995)|Adventure|Animati...|\n",
      "|     14|        Nixon (1995)|               Drama|\n",
      "|     15|Cutthroat Island ...|Action|Adventure|...|\n",
      "|     16|       Casino (1995)|         Crime|Drama|\n",
      "|     17|Sense and Sensibi...|       Drama|Romance|\n",
      "|     18|   Four Rooms (1995)|              Comedy|\n",
      "|     19|Ace Ventura: When...|              Comedy|\n",
      "|     20|  Money Train (1995)|Action|Comedy|Cri...|\n",
      "+-------+--------------------+--------------------+\n",
      "only showing top 20 rows\n",
      "\n"
     ]
    }
   ],
   "source": [
    "raw_movies.show()"
   ]
  },
  {
   "cell_type": "code",
   "execution_count": 9,
   "metadata": {},
   "outputs": [
    {
     "name": "stdout",
     "output_type": "stream",
     "text": [
      "root\n",
      " |-- movieId: integer (nullable = true)\n",
      " |-- title: string (nullable = true)\n",
      " |-- genres: string (nullable = true)\n",
      "\n"
     ]
    }
   ],
   "source": [
    "    # Show the schema\n",
    "raw_movies.printSchema()"
   ]
  },
  {
   "cell_type": "markdown",
   "metadata": {},
   "source": [
    "As we can see, it shows us each column (by name, according to the file header) and its type."
   ]
  },
  {
   "cell_type": "markdown",
   "metadata": {},
   "source": [
    "### Ratings dataset"
   ]
  },
  {
   "cell_type": "markdown",
   "metadata": {},
   "source": [
    "**`spark.read`**: It is necesary to load the csv file.\n",
    "- format(\"csv\"): Means the format of the file.\n",
    "\n",
    "- option(\"sep\", \",\"): It establish the kind of spearator, in this case ','.\n",
    "\n",
    "- option(\"inferSchema\", \"true\"): We set spark to infer the type of schema.\n",
    "\n",
    "- option(\"header\", \"true\"): We say to spark that the file has a header.\n",
    "\n",
    "- load(f'{datos_movies}'): Path file.\n",
    "\n",
    "This code was written in Scala."
   ]
  },
  {
   "cell_type": "code",
   "execution_count": 10,
   "metadata": {},
   "outputs": [
    {
     "name": "stdout",
     "output_type": "stream",
     "text": [
      "<class 'pyspark.sql.dataframe.DataFrame'>\n"
     ]
    }
   ],
   "source": [
    "raw_ratings = spark.read.format(\"csv\") \\\n",
    "                    .option(\"sep\", \",\") \\\n",
    "                    .option(\"inferSchema\", \"true\") \\\n",
    "                    .option(\"header\", \"true\") \\\n",
    "                    .load(f'{data_ratings}')\n",
    "print(type(raw_ratings))"
   ]
  },
  {
   "cell_type": "markdown",
   "metadata": {},
   "source": [
    "#### View data"
   ]
  },
  {
   "cell_type": "code",
   "execution_count": 11,
   "metadata": {},
   "outputs": [
    {
     "data": {
      "text/plain": [
       "[Row(userId=1, movieId=307, rating=3.5, timestamp=1256677221),\n",
       " Row(userId=1, movieId=481, rating=3.5, timestamp=1256677456),\n",
       " Row(userId=1, movieId=1091, rating=1.5, timestamp=1256677471),\n",
       " Row(userId=1, movieId=1257, rating=4.5, timestamp=1256677460),\n",
       " Row(userId=1, movieId=1449, rating=4.5, timestamp=1256677264)]"
      ]
     },
     "execution_count": 11,
     "metadata": {},
     "output_type": "execute_result"
    }
   ],
   "source": [
    "    # The first 5 observations with take function\n",
    "raw_ratings.take(5)"
   ]
  },
  {
   "cell_type": "code",
   "execution_count": 12,
   "metadata": {},
   "outputs": [
    {
     "name": "stdout",
     "output_type": "stream",
     "text": [
      "+------+-------+------+----------+\n",
      "|userId|movieId|rating| timestamp|\n",
      "+------+-------+------+----------+\n",
      "|     1|    307|   3.5|1256677221|\n",
      "|     1|    481|   3.5|1256677456|\n",
      "|     1|   1091|   1.5|1256677471|\n",
      "|     1|   1257|   4.5|1256677460|\n",
      "|     1|   1449|   4.5|1256677264|\n",
      "|     1|   1590|   2.5|1256677236|\n",
      "|     1|   1591|   1.5|1256677475|\n",
      "|     1|   2134|   4.5|1256677464|\n",
      "|     1|   2478|   4.0|1256677239|\n",
      "|     1|   2840|   3.0|1256677500|\n",
      "|     1|   2986|   2.5|1256677496|\n",
      "|     1|   3020|   4.0|1256677260|\n",
      "|     1|   3424|   4.5|1256677444|\n",
      "|     1|   3698|   3.5|1256677243|\n",
      "|     1|   3826|   2.0|1256677210|\n",
      "|     1|   3893|   3.5|1256677486|\n",
      "|     2|    170|   3.5|1192913581|\n",
      "|     2|    849|   3.5|1192913537|\n",
      "|     2|   1186|   3.5|1192913611|\n",
      "|     2|   1235|   3.0|1192913585|\n",
      "+------+-------+------+----------+\n",
      "only showing top 20 rows\n",
      "\n"
     ]
    }
   ],
   "source": [
    "    # Count the number of observation\n",
    "raw_ratings.show()"
   ]
  },
  {
   "cell_type": "code",
   "execution_count": 13,
   "metadata": {},
   "outputs": [
    {
     "name": "stdout",
     "output_type": "stream",
     "text": [
      "root\n",
      " |-- userId: integer (nullable = true)\n",
      " |-- movieId: integer (nullable = true)\n",
      " |-- rating: double (nullable = true)\n",
      " |-- timestamp: integer (nullable = true)\n",
      "\n"
     ]
    }
   ],
   "source": [
    "    # Show the schema \n",
    "raw_ratings.printSchema()"
   ]
  },
  {
   "cell_type": "code",
   "execution_count": 14,
   "metadata": {},
   "outputs": [
    {
     "data": {
      "text/plain": [
       "27753444"
      ]
     },
     "execution_count": 14,
     "metadata": {},
     "output_type": "execute_result"
    }
   ],
   "source": [
    "     # Count the number of observation    \n",
    "raw_ratings.count()"
   ]
  },
  {
   "cell_type": "markdown",
   "metadata": {},
   "source": [
    "### Join datasets"
   ]
  },
  {
   "cell_type": "markdown",
   "metadata": {},
   "source": [
    "In order to continue with the exploration, we will merge both datasets."
   ]
  },
  {
   "cell_type": "code",
   "execution_count": 15,
   "metadata": {},
   "outputs": [],
   "source": [
    "    # Join both the data frames to add movie data into ratings\n",
    "movie_ratings = raw_ratings.join(other=raw_movies, on=[\"movieId\"], how=\"left\")"
   ]
  },
  {
   "cell_type": "markdown",
   "metadata": {},
   "source": [
    "As we can see above, we have our new dataset ready to perform the EDA."
   ]
  },
  {
   "cell_type": "markdown",
   "metadata": {},
   "source": [
    "***"
   ]
  },
  {
   "cell_type": "markdown",
   "metadata": {},
   "source": [
    "***"
   ]
  },
  {
   "cell_type": "markdown",
   "metadata": {},
   "source": [
    "## EDA"
   ]
  },
  {
   "cell_type": "markdown",
   "metadata": {},
   "source": [
    "In this part, we will perform the EDA, so we can see more details of these dataset. First of all, we will look up the first and last rows, get the data shape, schema, dictionary of the variables... Also we will study if we have to drop some variables, study NaN and duplicated data."
   ]
  },
  {
   "cell_type": "markdown",
   "metadata": {},
   "source": [
    "### Dictionary"
   ]
  },
  {
   "cell_type": "markdown",
   "metadata": {},
   "source": [
    "- `movieId`: Identification number for the movie.\n",
    "- `userId`: Identification number for the user.\n",
    "- `rarting`: Ratings are made on a 5-star scale, with half-star increments (0.5 stars - 5.0 stars).\n",
    "- `timestamp`: Timestamps represent seconds since midnight Coordinated Universal Time (UTC) of January 1, 1970.\n",
    "- `title`: Title and year of the movie.\n",
    "- `genres`: Genres are a pipe-separated list."
   ]
  },
  {
   "cell_type": "markdown",
   "metadata": {},
   "source": [
    "### Data structure"
   ]
  },
  {
   "cell_type": "code",
   "execution_count": 16,
   "metadata": {
    "scrolled": false
   },
   "outputs": [
    {
     "name": "stdout",
     "output_type": "stream",
     "text": [
      "+-------+------+------+----------+--------------------+--------------------+\n",
      "|movieId|userId|rating| timestamp|               title|              genres|\n",
      "+-------+------+------+----------+--------------------+--------------------+\n",
      "|    307|     1|   3.5|1256677221|Three Colors: Blu...|               Drama|\n",
      "|    481|     1|   3.5|1256677456|   Kalifornia (1993)|      Drama|Thriller|\n",
      "|   1091|     1|   1.5|1256677471|Weekend at Bernie...|              Comedy|\n",
      "|   1257|     1|   4.5|1256677460|Better Off Dead.....|      Comedy|Romance|\n",
      "|   1449|     1|   4.5|1256677264|Waiting for Guffm...|              Comedy|\n",
      "|   1590|     1|   2.5|1256677236|Event Horizon (1997)|Horror|Sci-Fi|Thr...|\n",
      "|   1591|     1|   1.5|1256677475|        Spawn (1997)|Action|Adventure|...|\n",
      "|   2134|     1|   4.5|1256677464|Weird Science (1985)|Comedy|Fantasy|Sc...|\n",
      "|   2478|     1|   4.0|1256677239|¡Three Amigos! (1...|      Comedy|Western|\n",
      "|   2840|     1|   3.0|1256677500|     Stigmata (1999)|      Drama|Thriller|\n",
      "|   2986|     1|   2.5|1256677496|    RoboCop 2 (1990)|Action|Crime|Sci-...|\n",
      "|   3020|     1|   4.0|1256677260| Falling Down (1993)|        Action|Drama|\n",
      "|   3424|     1|   4.5|1256677444|Do the Right Thin...|               Drama|\n",
      "|   3698|     1|   3.5|1256677243|Running Man, The ...|       Action|Sci-Fi|\n",
      "|   3826|     1|   2.0|1256677210|   Hollow Man (2000)|Horror|Sci-Fi|Thr...|\n",
      "|   3893|     1|   3.5|1256677486|  Nurse Betty (2000)|Comedy|Crime|Dram...|\n",
      "|    170|     2|   3.5|1192913581|      Hackers (1995)|Action|Adventure|...|\n",
      "|    849|     2|   3.5|1192913537|Escape from L.A. ...|Action|Adventure|...|\n",
      "|   1186|     2|   3.5|1192913611|Sex, Lies, and Vi...|               Drama|\n",
      "|   1235|     2|   3.0|1192913585|Harold and Maude ...|Comedy|Drama|Romance|\n",
      "+-------+------+------+----------+--------------------+--------------------+\n",
      "only showing top 20 rows\n",
      "\n"
     ]
    }
   ],
   "source": [
    "    # Show the dataset\n",
    "movie_ratings.show()"
   ]
  },
  {
   "cell_type": "markdown",
   "metadata": {},
   "source": [
    "Here we can see the first 20 rows of our dataset. Genre column has various genres associated with that movie but we need to process on each genre separately and hence we will split the genre with the ‘|’ operator and then use explode so that every distinct genre will be in their own row. This will ignore null or empty genres if present in the dataset and if for some reason you want them to persist then you can go for explode_outer as it will also store null or empty values."
   ]
  },
  {
   "cell_type": "markdown",
   "metadata": {},
   "source": [
    "We will create a schema to ensure that each column has the desired data type as we need. "
   ]
  },
  {
   "cell_type": "code",
   "execution_count": 17,
   "metadata": {},
   "outputs": [
    {
     "name": "stdout",
     "output_type": "stream",
     "text": [
      "root\n",
      " |-- movieId: integer (nullable = true)\n",
      " |-- userId: integer (nullable = true)\n",
      " |-- rating: double (nullable = true)\n",
      " |-- timestamp: integer (nullable = true)\n",
      " |-- title: string (nullable = true)\n",
      " |-- genres: string (nullable = true)\n",
      "\n"
     ]
    }
   ],
   "source": [
    "    # Show the schema\n",
    "movie_ratings.printSchema()"
   ]
  },
  {
   "cell_type": "code",
   "execution_count": 18,
   "metadata": {},
   "outputs": [
    {
     "data": {
      "text/plain": [
       "['movieId', 'userId', 'rating', 'timestamp', 'title', 'genres']"
      ]
     },
     "execution_count": 18,
     "metadata": {},
     "output_type": "execute_result"
    }
   ],
   "source": [
    "    # Another way to see the column names\n",
    "movie_ratings.columns"
   ]
  },
  {
   "cell_type": "code",
   "execution_count": 19,
   "metadata": {},
   "outputs": [
    {
     "data": {
      "text/plain": [
       "27753444"
      ]
     },
     "execution_count": 19,
     "metadata": {},
     "output_type": "execute_result"
    }
   ],
   "source": [
    "    # Data shape\n",
    "movie_ratings.count()"
   ]
  },
  {
   "cell_type": "markdown",
   "metadata": {},
   "source": [
    "### Split genre column"
   ]
  },
  {
   "cell_type": "code",
   "execution_count": 20,
   "metadata": {},
   "outputs": [
    {
     "name": "stdout",
     "output_type": "stream",
     "text": [
      "+-------+------+------+----------+--------------------+---------+\n",
      "|movieId|userId|rating| timestamp|               title|   genres|\n",
      "+-------+------+------+----------+--------------------+---------+\n",
      "|    307|     1|   3.5|1256677221|Three Colors: Blu...|    Drama|\n",
      "|    481|     1|   3.5|1256677456|   Kalifornia (1993)|    Drama|\n",
      "|    481|     1|   3.5|1256677456|   Kalifornia (1993)| Thriller|\n",
      "|   1091|     1|   1.5|1256677471|Weekend at Bernie...|   Comedy|\n",
      "|   1257|     1|   4.5|1256677460|Better Off Dead.....|   Comedy|\n",
      "|   1257|     1|   4.5|1256677460|Better Off Dead.....|  Romance|\n",
      "|   1449|     1|   4.5|1256677264|Waiting for Guffm...|   Comedy|\n",
      "|   1590|     1|   2.5|1256677236|Event Horizon (1997)|   Horror|\n",
      "|   1590|     1|   2.5|1256677236|Event Horizon (1997)|   Sci-Fi|\n",
      "|   1590|     1|   2.5|1256677236|Event Horizon (1997)| Thriller|\n",
      "|   1591|     1|   1.5|1256677475|        Spawn (1997)|   Action|\n",
      "|   1591|     1|   1.5|1256677475|        Spawn (1997)|Adventure|\n",
      "|   1591|     1|   1.5|1256677475|        Spawn (1997)|   Sci-Fi|\n",
      "|   1591|     1|   1.5|1256677475|        Spawn (1997)| Thriller|\n",
      "|   2134|     1|   4.5|1256677464|Weird Science (1985)|   Comedy|\n",
      "|   2134|     1|   4.5|1256677464|Weird Science (1985)|  Fantasy|\n",
      "|   2134|     1|   4.5|1256677464|Weird Science (1985)|   Sci-Fi|\n",
      "|   2478|     1|   4.0|1256677239|¡Three Amigos! (1...|   Comedy|\n",
      "|   2478|     1|   4.0|1256677239|¡Three Amigos! (1...|  Western|\n",
      "|   2840|     1|   3.0|1256677500|     Stigmata (1999)|    Drama|\n",
      "+-------+------+------+----------+--------------------+---------+\n",
      "only showing top 20 rows\n",
      "\n"
     ]
    }
   ],
   "source": [
    "df_genres_split = movie_ratings.withColumn(\"genres\", explode(split(\"genres\", \"[|]\")))\n",
    "df_genres_split.show()"
   ]
  },
  {
   "cell_type": "markdown",
   "metadata": {},
   "source": [
    "First, we have to understand how withColumn works, withColumn is used to create a new column in the dataframe with some condition or just populating constant values. If column exists already as in this case (genre column) we can populate it with some condition passed alongside it.\n",
    "\n",
    "Once we have the data in the correct we can show which of the genres is the most popular."
   ]
  },
  {
   "cell_type": "code",
   "execution_count": 21,
   "metadata": {},
   "outputs": [
    {
     "name": "stdout",
     "output_type": "stream",
     "text": [
      "+------------------+--------+\n",
      "|            genres|   count|\n",
      "+------------------+--------+\n",
      "|(no genres listed)|   18389|\n",
      "|         Film-Noir|  272742|\n",
      "|       Documentary|  345471|\n",
      "|           Western|  542424|\n",
      "|              IMAX| 1102179|\n",
      "|           Musical| 1109674|\n",
      "|               War| 1426112|\n",
      "|         Animation| 1803041|\n",
      "|            Horror| 2070791|\n",
      "|           Mystery| 2210388|\n",
      "|          Children| 2381124|\n",
      "|           Fantasy| 3118549|\n",
      "|             Crime| 4631581|\n",
      "|            Sci-Fi| 4740208|\n",
      "|           Romance| 5078478|\n",
      "|         Adventure| 6452309|\n",
      "|          Thriller| 7489628|\n",
      "|            Action| 8214956|\n",
      "|            Comedy| 9999184|\n",
      "|             Drama|12191048|\n",
      "+------------------+--------+\n",
      "\n"
     ]
    }
   ],
   "source": [
    "df_genres_split.groupBy(\"genres\").count().sort(\"count\").show()"
   ]
  },
  {
   "cell_type": "markdown",
   "metadata": {},
   "source": [
    "We can see that we have 18389 movies with '(no genres listed)', also we can see that the most common genre is Drama, follow by Comedy and Action. \n",
    "\n",
    "For further information we will explore those movies without genres listed:"
   ]
  },
  {
   "cell_type": "code",
   "execution_count": 22,
   "metadata": {},
   "outputs": [
    {
     "name": "stdout",
     "output_type": "stream",
     "text": [
      "+-------+------+------+----------+--------------------+------------------+\n",
      "|movieId|userId|rating| timestamp|               title|            genres|\n",
      "+-------+------+------+----------+--------------------+------------------+\n",
      "| 166024|    14|   4.5|1497536861|     Whiplash (2013)|(no genres listed)|\n",
      "| 122896|    75|   1.5|1511888856|Pirates of the Ca...|(no genres listed)|\n",
      "| 125958|   119|   5.0|1474471558|Stephen Fry In Am...|(no genres listed)|\n",
      "| 138212|   134|   4.0|1485104419|     Spectral (2016)|(no genres listed)|\n",
      "| 141866|   173|   3.5|1484060054|   Green Room (2015)|(no genres listed)|\n",
      "| 130060|   176|   3.0|1499892811|Des fleurs pour A...|(no genres listed)|\n",
      "| 147942|   176|   4.0|1535836533|       Room 8 (2013)|(no genres listed)|\n",
      "| 155927|   176|   3.5|1499880225|    Vdrebezgi (2011)|(no genres listed)|\n",
      "| 162290|   176|   2.0|1499891266|         Lift (2006)|(no genres listed)|\n",
      "| 166562|   176|   4.5|1499893111|Panfilov's 28 Men...|(no genres listed)|\n",
      "| 179111|   214|   4.0|1526756315|Montparnasse Bien...|(no genres listed)|\n",
      "| 141866|   248|   3.0|1511186313|   Green Room (2015)|(no genres listed)|\n",
      "| 156605|   248|   3.5|1511282693|            Paterson|(no genres listed)|\n",
      "| 170117|   248|   2.0|1511282917|   Next Floor (2008)|(no genres listed)|\n",
      "| 131556|   277|   3.5|1427935296|       Inside (2012)|(no genres listed)|\n",
      "| 131560|   277|   3.5|1427935456|       Vavien (2009)|(no genres listed)|\n",
      "| 122896|   339|   1.0|1530894041|Pirates of the Ca...|(no genres listed)|\n",
      "| 134817|   339|   4.0|1517660683|Heaven and Earth ...|(no genres listed)|\n",
      "| 147250|   339|   2.0|1513839159|The Adventures of...|(no genres listed)|\n",
      "| 150629|   339|   0.5|1517660099|Las aventuras de ...|(no genres listed)|\n",
      "+-------+------+------+----------+--------------------+------------------+\n",
      "only showing top 20 rows\n",
      "\n"
     ]
    }
   ],
   "source": [
    "df_genres_split.filter(df_genres_split.genres == \"(no genres listed)\").show()"
   ]
  },
  {
   "cell_type": "markdown",
   "metadata": {},
   "source": [
    "There some of these films thath are known as *Pirates of the Caribean* with no genre, so probably they are NaN (or database errors) but we do not need care about that becouse ALS algorithm is prepared to work with that kind of NaN."
   ]
  },
  {
   "cell_type": "code",
   "execution_count": 32,
   "metadata": {},
   "outputs": [],
   "source": [
    "df_genres_split_grouped = df_genres_split.groupBy(\"genres\").count().sort(\"count\").toPandas()"
   ]
  },
  {
   "cell_type": "code",
   "execution_count": 31,
   "metadata": {},
   "outputs": [
    {
     "data": {
      "image/png": "[encoded data removed]",
      "text/plain": [
       "<Figure size 1440x720 with 1 Axes>"
      ]
     },
     "metadata": {
      "needs_background": "light"
     },
     "output_type": "display_data"
    }
   ],
   "source": [
    "    # Create a bar plot\n",
    "plt.figure(figsize=(20,10))\n",
    "plt.bar(df_genres_split_grouped[\"genres\"], df_genres_split_grouped[\"count\"])\n",
    "plt.xticks(rotation=45)\n",
    "plt.show()"
   ]
  },
  {
   "cell_type": "markdown",
   "metadata": {},
   "source": [
    "### Data describe"
   ]
  },
  {
   "cell_type": "code",
   "execution_count": 42,
   "metadata": {},
   "outputs": [
    {
     "name": "stdout",
     "output_type": "stream",
     "text": [
      "+-------+------------------+------------------+------------------+--------------------+--------------------+------------------+\n",
      "|summary|           movieId|            userId|            rating|           timestamp|               title|            genres|\n",
      "+-------+------------------+------------------+------------------+--------------------+--------------------+------------------+\n",
      "|  count|          27753444|          27753444|          27753444|            27753444|            27753444|          27753444|\n",
      "|   mean| 18487.99983414671|141942.01557064414|3.5304452124932677|1.1931218549319255E9|                null|              null|\n",
      "| stddev|35102.625247468335|   81707.400091494| 1.066352750231989|2.1604822852234188E8|                null|              null|\n",
      "|    min|                 1|                 1|               0.5|           789652004|\"\"\"Great Performa...|(no genres listed)|\n",
      "|    max|            193886|            283228|               5.0|          1537945149|     줄탁동시 (2012)|           Western|\n",
      "+-------+------------------+------------------+------------------+--------------------+--------------------+------------------+\n",
      "\n"
     ]
    }
   ],
   "source": [
    "movie_ratings.describe().show()"
   ]
  },
  {
   "cell_type": "markdown",
   "metadata": {},
   "source": [
    "Here we can see that we have 27 Millions of rows in our dataframe. Furthermore, we can observe that it has 193886 movies and 283228 different users. This lead as to conclude that we have possible nulls and/or the users just publish 100 ratings more or less."
   ]
  },
  {
   "cell_type": "code",
   "execution_count": 48,
   "metadata": {},
   "outputs": [
    {
     "name": "stdout",
     "output_type": "stream",
     "text": [
      "+------------------+------------------+-----------+-----------+-------------------+---------------------+\n",
      "|            genres|       avg(rating)|min(rating)|max(rating)|stddev_samp(rating)|Variation Coefficient|\n",
      "+------------------+------------------+-----------+-----------+-------------------+---------------------+\n",
      "|             Crime| 3.683522430029832|        0.5|        5.0| 1.0153457266291877|  0.27564532208399356|\n",
      "|           Romance| 3.541861853098507|        0.5|        5.0| 1.0514365272045683|   0.2968598355367096|\n",
      "|          Thriller|3.5188010672893233|        0.5|        5.0|  1.042630316405843|  0.29630271688220894|\n",
      "|         Adventure|3.5132836167641694|        0.5|        5.0|  1.072788530508082|   0.3053521000664756|\n",
      "|             Drama|3.6763707271105814|        0.5|        5.0| 1.0044495225847476|   0.2732176913437095|\n",
      "|               War| 3.796596971345869|        0.5|        5.0| 0.9979888474744628|  0.26286404772658345|\n",
      "|       Documentary|3.7108599564073397|        0.5|        5.0| 1.0252516966700138|  0.27628412516612694|\n",
      "|           Fantasy|  3.50720832027972|        0.5|        5.0| 1.0928532954675731|   0.3116020480301586|\n",
      "|           Mystery|3.6655695742105006|        0.5|        5.0| 1.0134600957146136|  0.27648093296193815|\n",
      "|           Musical|3.5427517451071218|        0.5|        5.0|  1.064268969769636|   0.3004074364622057|\n",
      "|         Animation| 3.607309262518157|        0.5|        5.0| 1.0409454668357994|  0.28856562913853023|\n",
      "|         Film-Noir| 3.928678018053692|        0.5|        5.0| 0.9196679176849989|  0.23409093681355236|\n",
      "|(no genres listed)|3.2913970308336506|        0.5|        5.0| 1.1766157278104552|   0.3574821623729909|\n",
      "|              IMAX|3.6189756836230775|        0.5|        5.0| 1.0502405895934437|   0.2902038260013985|\n",
      "|            Horror|3.2843780468429697|        0.5|        5.0| 1.1486625759316744|   0.3497351886868806|\n",
      "|           Western|3.5776726324793886|        0.5|        5.0| 1.0259731469378357|   0.2867711085759176|\n",
      "|            Comedy| 3.419786704595095|        0.5|        5.0|  1.088112774120192|  0.31818147390833407|\n",
      "|          Children| 3.423892875801512|        0.5|        5.0|  1.103512070604033|  0.32229748728505636|\n",
      "|            Action|3.4625655329133838|        0.5|        5.0| 1.0755507791158543|  0.31062250487166715|\n",
      "|            Sci-Fi|3.4704759791131528|        0.5|        5.0| 1.0926346711131847|  0.31483712254144375|\n",
      "+------------------+------------------+-----------+-----------+-------------------+---------------------+\n",
      "\n"
     ]
    }
   ],
   "source": [
    "df_genres_split.groupBy(\"genres\").agg(avg(\"rating\"), min(\"rating\"), max(\"rating\"), \\\n",
    "                                    stddev(\"rating\"), stddev(\"rating\")/avg(\"rating\")) \\\n",
    "                                    .withColumnRenamed(\"(stddev_samp(rating) / avg(rating))\", \"Variation Coefficient\") \\\n",
    "                                    .show()"
   ]
  },
  {
   "cell_type": "markdown",
   "metadata": {},
   "source": [
    "Above, we can observe that the most rating genre is Film-Noirr with 3.8 on average, follow by War, Documentary, Crime and least Drama with 3.71, 3.68 and 3.67 on average. In addition to this, the min rating on all the genres is 0.5 and the max is 5 points that curious. Plus, the movie with the highest standard deviation are the `no genres listed` follow by Horror movies with 1.14. Due to this, the genred with the highest Variation coefficient are the `no genres listed` and `horror` movies. "
   ]
  },
  {
   "cell_type": "markdown",
   "metadata": {},
   "source": [
    "As we show before, Film-Noir is the genre with highest rating on average we will like to plot his distribution in order to know their behavior."
   ]
  },
  {
   "cell_type": "code",
   "execution_count": 74,
   "metadata": {},
   "outputs": [],
   "source": [
    "df_filmnoir = df_genres_split.filter(df_genres_split.genres == \"Film-Noir\").select(\"genres\",\"rating\").toPandas()"
   ]
  },
  {
   "cell_type": "code",
   "execution_count": 75,
   "metadata": {},
   "outputs": [
    {
     "data": {
      "image/png": "[encoded data removed]",
      "text/plain": [
       "<Figure size 576x576 with 1 Axes>"
      ]
     },
     "metadata": {
      "needs_background": "light"
     },
     "output_type": "display_data"
    }
   ],
   "source": [
    "sns.displot(df_filmnoir, x=\"rating\", height=8);\n",
    "plt.title(\"Film-Noir genres with their rating distribution\", fontsize=20);"
   ]
  },
  {
   "cell_type": "markdown",
   "metadata": {},
   "source": [
    "We can observe that the majority of the ratings are very good (4 out of 5). Next, they don't have low ratings between 1 and 2. Finally, the distribution is concentrated between 3 and 5 so it has left-skewed."
   ]
  },
  {
   "cell_type": "markdown",
   "metadata": {},
   "source": [
    "Now, we will plot the worst genres rated to show the difference between Film-Noir movies and Horror movies.\n",
    "\n",
    "Our initial hypothesis is the distribution will not change as much as the Film-Noir movies because on average they are actually similar"
   ]
  },
  {
   "cell_type": "code",
   "execution_count": 76,
   "metadata": {},
   "outputs": [
    {
     "data": {
      "image/png": "[encoded data removed]",
      "text/plain": [
       "<Figure size 576x576 with 1 Axes>"
      ]
     },
     "metadata": {
      "needs_background": "light"
     },
     "output_type": "display_data"
    }
   ],
   "source": [
    "    # First we create the Pandas object\n",
    "df_horror = df_genres_split.filter(df_genres_split.genres == \"Horror\").select(\"genres\",\"rating\").toPandas()\n",
    "\n",
    "    # Finally we plot the horror movies\n",
    "sns.displot(df_horror, x=\"rating\", height=8);\n",
    "plt.title(\"Horror genres with their rating distribution\", fontsize=20);"
   ]
  },
  {
   "cell_type": "markdown",
   "metadata": {},
   "source": [
    "As we said before, the majority of the distribution is in the range of 3 and 5 with more 3's than the Film-Noir movies. Plus, it has less 5's ratings and an increase in the lowest puntuation than the Film-Noir movies."
   ]
  },
  {
   "cell_type": "markdown",
   "metadata": {},
   "source": [
    "#### Box-plots by Genres"
   ]
  },
  {
   "cell_type": "code",
   "execution_count": null,
   "metadata": {},
   "outputs": [],
   "source": [
    "# First we create the Pandas object\n",
    "df_genres_rating = df_genres_split.select(\"genres\",\"rating\").toPandas()\n",
    "df_genres_rating.head()\n",
    "    # Finally we plot the horror movies\n",
    "#sns.boxplot(data=df_genres_rating, x=\"genres\", y=\"rating\", height=8);\n",
    "#plt.title(\"Boxplot by Genres\", fontsize=20);"
   ]
  },
  {
   "cell_type": "markdown",
   "metadata": {},
   "source": [
    "#### Most popular movies"
   ]
  },
  {
   "cell_type": "markdown",
   "metadata": {},
   "source": [
    "To get the most popular movies, we are looking for the movies with the highest number of ratings (we use the number of ratings as a proxy for the number of views). To do this, we will perform the following transformations on the movie_ratings DataFrame:\n",
    "\n",
    "- group by title\n",
    "\n",
    "- count the number of users (userId) associated with each movie\n",
    "\n",
    "- rename this column to num_ratings\n",
    "\n",
    "- sort by num_ratings in descending order\n",
    "\n",
    "In the next cell, we perform these transformations in pySpark and store the DataFrame as most_popular."
   ]
  },
  {
   "cell_type": "code",
   "execution_count": 39,
   "metadata": {},
   "outputs": [],
   "source": [
    "most_popular = movie_ratings\\\n",
    "    .groupBy(\"title\")\\\n",
    "    .agg(count(\"userId\"))\\\n",
    "    .withColumnRenamed(\"count(userId)\", \"num_ratings\")\\\n",
    "    .sort(desc(\"num_ratings\"))"
   ]
  },
  {
   "cell_type": "markdown",
   "metadata": {},
   "source": [
    "The DataFrame methods we have used here are:\n",
    "\n",
    "- groupBy - groups the DataFrame by the given column\n",
    "\n",
    "- agg - allows us to perform an aggregate calculation on grouped data (this can be a built-in aggregation function such as count or a user defined function)\n",
    "\n",
    "- withColumnRenamed - renames an existing column with a new column name\n",
    "\n",
    "- sort - sorts by the specified column(s)"
   ]
  },
  {
   "cell_type": "code",
   "execution_count": 49,
   "metadata": {},
   "outputs": [
    {
     "name": "stdout",
     "output_type": "stream",
     "text": [
      "+--------------------+-----------+\n",
      "|               title|num_ratings|\n",
      "+--------------------+-----------+\n",
      "|Shawshank Redempt...|      97999|\n",
      "| Forrest Gump (1994)|      97040|\n",
      "| Pulp Fiction (1994)|      92406|\n",
      "|Silence of the La...|      87899|\n",
      "|  Matrix, The (1999)|      84545|\n",
      "|Star Wars: Episod...|      81815|\n",
      "|Jurassic Park (1993)|      76451|\n",
      "|Schindler's List ...|      71516|\n",
      "|   Braveheart (1995)|      68803|\n",
      "|    Toy Story (1995)|      68469|\n",
      "+--------------------+-----------+\n",
      "only showing top 10 rows\n",
      "\n"
     ]
    }
   ],
   "source": [
    "most_popular.show(10)"
   ]
  },
  {
   "cell_type": "markdown",
   "metadata": {},
   "source": [
    "Here we can see the first 10 movies sorted by number of ratings. So, the most rating film is Shawshank Redemption follow by Forrest Gump one of the most famous films ever created."
   ]
  }
 ],
 "metadata": {
  "kernelspec": {
   "display_name": "Python 3",
   "language": "python",
   "name": "python3"
  },
  "language_info": {
   "codemirror_mode": {
    "name": "ipython",
    "version": 3
   },
   "file_extension": ".py",
   "mimetype": "text/x-python",
   "name": "python",
   "nbconvert_exporter": "python",
   "pygments_lexer": "ipython3",
   "version": "3.8.5"
  },
  "toc": {
   "base_numbering": 1,
   "nav_menu": {},
   "number_sections": true,
   "sideBar": true,
   "skip_h1_title": false,
   "title_cell": "Table of Contents",
   "title_sidebar": "Contents",
   "toc_cell": false,
   "toc_position": {},
   "toc_section_display": true,
   "toc_window_display": false
  }
 },
 "nbformat": 4,
 "nbformat_minor": 2
}
