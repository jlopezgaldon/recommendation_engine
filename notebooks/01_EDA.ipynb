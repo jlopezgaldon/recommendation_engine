{
 "cells": [
  {
   "cell_type": "markdown",
   "metadata": {},
   "source": [
    "## Title"
   ]
  },
  {
   "cell_type": "markdown",
   "metadata": {},
   "source": [
    "# Exploratory Data Analysis"
   ]
  },
  {
   "cell_type": "markdown",
   "metadata": {},
   "source": [
    "### Description:"
   ]
  },
  {
   "cell_type": "markdown",
   "metadata": {},
   "source": [
    "In this notebook we will have a first look to the initial dataset, join them in order to work with the full dataset. Next we will perform the Exploratory Data Analysis in order to look up for insights."
   ]
  },
  {
   "cell_type": "markdown",
   "metadata": {},
   "source": [
    "### Authors:\n",
    "\n",
    "#### Hugo Cesar Octavio del Sueldo\n",
    "#### Jose Lopez Galdon"
   ]
  },
  {
   "cell_type": "markdown",
   "metadata": {},
   "source": [
    "### Date:\n",
    "15/01/2021\n",
    "### Version:\n",
    "1.0"
   ]
  },
  {
   "cell_type": "markdown",
   "metadata": {
    "collapsed": true
   },
   "source": [
    "## Load pySpark"
   ]
  },
  {
   "cell_type": "markdown",
   "metadata": {
    "collapsed": true
   },
   "source": [
    "First of all, we will create the sparkContext and we will create the RDD from our files downloaded from the official website."
   ]
  },
  {
   "cell_type": "code",
   "execution_count": 1,
   "metadata": {},
   "outputs": [],
   "source": [
    "    # Findspark to locate the spark in the system\n",
    "#import findspark\n",
    "#findspark.init()\n",
    "\n",
    "    # Initialize the spark context\n",
    "from pyspark import SparkContext\n",
    "sc = SparkContext.getOrCreate()\n",
    "\n",
    "    # Due to we are going to work with sparkSQL we will introduce the sparksql context\n",
    "from pyspark.sql import SparkSession\n",
    "from pyspark.sql.functions import split, explode\n",
    "from pyspark.sql.types import *\n",
    "from pyspark.sql.window import Window\n",
    "from pyspark.sql.functions import *\n",
    "from pyspark.sql.types import IntegerType\n",
    "from pyspark.sql.functions import col\n",
    "spark = SparkSession.builder.master(\"local[*]\").getOrCreate()\n",
    "\n",
    "    # Visualitation\n",
    "import matplotlib.pyplot as plt\n",
    "import seaborn as sns\n",
    "\n",
    "    # Handy\n",
    "from handyspark import *"
   ]
  },
  {
   "cell_type": "markdown",
   "metadata": {},
   "source": [
    "## Load data"
   ]
  },
  {
   "cell_type": "markdown",
   "metadata": {},
   "source": [
    "Now, we will create objects with the file path"
   ]
  },
  {
   "cell_type": "code",
   "execution_count": 2,
   "metadata": {},
   "outputs": [],
   "source": [
    "data_movies = \"../data/01_raw/movies.csv\"\n",
    "data_ratings = \"../data/01_raw/ratings.csv\""
   ]
  },
  {
   "cell_type": "markdown",
   "metadata": {
    "collapsed": true
   },
   "source": [
    "### Movies dataset"
   ]
  },
  {
   "cell_type": "markdown",
   "metadata": {},
   "source": [
    "**`spark.read`**: It is necesary to load the csv file.\n",
    "- format(\"csv\"): Means the format of the file.\n",
    "\n",
    "- option(\"sep\", \",\"): It establish the kind of spearator, in this case ','.\n",
    "\n",
    "- option(\"inferSchema\", \"true\"): We set spark to infer the type of schema.\n",
    "\n",
    "- option(\"header\", \"true\"): We say to spark that the file has a header.\n",
    "\n",
    "- load(f'{datos_movies}'): Path file.\n",
    "\n",
    "This code was written in Scala."
   ]
  },
  {
   "cell_type": "code",
   "execution_count": 3,
   "metadata": {},
   "outputs": [
    {
     "name": "stdout",
     "output_type": "stream",
     "text": [
      "<class 'pyspark.sql.dataframe.DataFrame'>\n"
     ]
    }
   ],
   "source": [
    "raw_movies = spark.read.format(\"csv\") \\\n",
    "                       .option(\"sep\", \",\") \\\n",
    "                       .option(\"inferSchema\", \"true\") \\\n",
    "                       .option(\"header\", \"true\") \\\n",
    "                       .load(f'{data_movies}')\n",
    "print(type(raw_movies))"
   ]
  },
  {
   "cell_type": "markdown",
   "metadata": {},
   "source": [
    "#### View data"
   ]
  },
  {
   "cell_type": "markdown",
   "metadata": {},
   "source": [
    "Now we have our data file loaded into the raw_movies DataFrame.\n",
    "\n",
    "Without getting into *Spark transformations and actions*, the most basic thing we can do to check that we got our DF contents right is to check the first few entries in our data. We can also count() the number of lines loaded from the file into the DF."
   ]
  },
  {
   "cell_type": "code",
   "execution_count": 4,
   "metadata": {},
   "outputs": [
    {
     "data": {
      "text/plain": [
       "[Row(movieId=1, title='Toy Story (1995)', genres='Adventure|Animation|Children|Comedy|Fantasy'),\n",
       " Row(movieId=2, title='Jumanji (1995)', genres='Adventure|Children|Fantasy'),\n",
       " Row(movieId=3, title='Grumpier Old Men (1995)', genres='Comedy|Romance'),\n",
       " Row(movieId=4, title='Waiting to Exhale (1995)', genres='Comedy|Drama|Romance'),\n",
       " Row(movieId=5, title='Father of the Bride Part II (1995)', genres='Comedy')]"
      ]
     },
     "execution_count": 4,
     "metadata": {},
     "output_type": "execute_result"
    }
   ],
   "source": [
    "     # The first 5 observations with take function\n",
    "raw_movies.take(5)"
   ]
  },
  {
   "cell_type": "code",
   "execution_count": 5,
   "metadata": {},
   "outputs": [
    {
     "data": {
      "text/plain": [
       "58098"
      ]
     },
     "execution_count": 5,
     "metadata": {},
     "output_type": "execute_result"
    }
   ],
   "source": [
    "     # Count the number of observation\n",
    "raw_movies.count()"
   ]
  },
  {
   "cell_type": "markdown",
   "metadata": {},
   "source": [
    "To see the result in more interactive manner (rows under the columns), we can use the show operation"
   ]
  },
  {
   "cell_type": "code",
   "execution_count": 6,
   "metadata": {},
   "outputs": [
    {
     "name": "stdout",
     "output_type": "stream",
     "text": [
      "+-------+--------------------+--------------------+\n",
      "|movieId|               title|              genres|\n",
      "+-------+--------------------+--------------------+\n",
      "|      1|    Toy Story (1995)|Adventure|Animati...|\n",
      "|      2|      Jumanji (1995)|Adventure|Childre...|\n",
      "|      3|Grumpier Old Men ...|      Comedy|Romance|\n",
      "|      4|Waiting to Exhale...|Comedy|Drama|Romance|\n",
      "|      5|Father of the Bri...|              Comedy|\n",
      "|      6|         Heat (1995)|Action|Crime|Thri...|\n",
      "|      7|      Sabrina (1995)|      Comedy|Romance|\n",
      "|      8| Tom and Huck (1995)|  Adventure|Children|\n",
      "|      9| Sudden Death (1995)|              Action|\n",
      "|     10|    GoldenEye (1995)|Action|Adventure|...|\n",
      "|     11|American Presiden...|Comedy|Drama|Romance|\n",
      "|     12|Dracula: Dead and...|       Comedy|Horror|\n",
      "|     13|        Balto (1995)|Adventure|Animati...|\n",
      "|     14|        Nixon (1995)|               Drama|\n",
      "|     15|Cutthroat Island ...|Action|Adventure|...|\n",
      "|     16|       Casino (1995)|         Crime|Drama|\n",
      "|     17|Sense and Sensibi...|       Drama|Romance|\n",
      "|     18|   Four Rooms (1995)|              Comedy|\n",
      "|     19|Ace Ventura: When...|              Comedy|\n",
      "|     20|  Money Train (1995)|Action|Comedy|Cri...|\n",
      "+-------+--------------------+--------------------+\n",
      "only showing top 20 rows\n",
      "\n"
     ]
    }
   ],
   "source": [
    "raw_movies.show()"
   ]
  },
  {
   "cell_type": "code",
   "execution_count": 7,
   "metadata": {},
   "outputs": [
    {
     "name": "stdout",
     "output_type": "stream",
     "text": [
      "root\n",
      " |-- movieId: integer (nullable = true)\n",
      " |-- title: string (nullable = true)\n",
      " |-- genres: string (nullable = true)\n",
      "\n"
     ]
    }
   ],
   "source": [
    "    # Show the schema\n",
    "raw_movies.printSchema()"
   ]
  },
  {
   "cell_type": "markdown",
   "metadata": {},
   "source": [
    "As we can see, it shows us each column (by name, according to the file header) and its type."
   ]
  },
  {
   "cell_type": "markdown",
   "metadata": {},
   "source": [
    "### Ratings dataset"
   ]
  },
  {
   "cell_type": "markdown",
   "metadata": {},
   "source": [
    "**`spark.read`**: It is necesary to load the csv file.\n",
    "- format(\"csv\"): Means the format of the file.\n",
    "\n",
    "- option(\"sep\", \",\"): It establish the kind of spearator, in this case ','.\n",
    "\n",
    "- option(\"inferSchema\", \"true\"): We set spark to infer the type of schema.\n",
    "\n",
    "- option(\"header\", \"true\"): We say to spark that the file has a header.\n",
    "\n",
    "- load(f'{datos_movies}'): Path file.\n",
    "\n",
    "This code was written in Scala."
   ]
  },
  {
   "cell_type": "code",
   "execution_count": 4,
   "metadata": {},
   "outputs": [
    {
     "name": "stdout",
     "output_type": "stream",
     "text": [
      "<class 'pyspark.sql.dataframe.DataFrame'>\n"
     ]
    }
   ],
   "source": [
    "raw_ratings = spark.read.format(\"csv\") \\\n",
    "                        .option(\"sep\", \",\") \\\n",
    "                        .option(\"inferSchema\", \"true\") \\\n",
    "                        .option(\"header\", \"true\") \\\n",
    "                        .load(f'{data_ratings}')\n",
    "print(type(raw_ratings))"
   ]
  },
  {
   "cell_type": "markdown",
   "metadata": {},
   "source": [
    "#### View data"
   ]
  },
  {
   "cell_type": "code",
   "execution_count": 9,
   "metadata": {},
   "outputs": [
    {
     "data": {
      "text/plain": [
       "[Row(userId=1, movieId=307, rating=3.5, timestamp=1256677221),\n",
       " Row(userId=1, movieId=481, rating=3.5, timestamp=1256677456),\n",
       " Row(userId=1, movieId=1091, rating=1.5, timestamp=1256677471),\n",
       " Row(userId=1, movieId=1257, rating=4.5, timestamp=1256677460),\n",
       " Row(userId=1, movieId=1449, rating=4.5, timestamp=1256677264)]"
      ]
     },
     "execution_count": 9,
     "metadata": {},
     "output_type": "execute_result"
    }
   ],
   "source": [
    "    # The first 5 observations with take function\n",
    "raw_ratings.take(5)"
   ]
  },
  {
   "cell_type": "code",
   "execution_count": 10,
   "metadata": {},
   "outputs": [
    {
     "name": "stdout",
     "output_type": "stream",
     "text": [
      "+------+-------+------+----------+\n",
      "|userId|movieId|rating| timestamp|\n",
      "+------+-------+------+----------+\n",
      "|     1|    307|   3.5|1256677221|\n",
      "|     1|    481|   3.5|1256677456|\n",
      "|     1|   1091|   1.5|1256677471|\n",
      "|     1|   1257|   4.5|1256677460|\n",
      "|     1|   1449|   4.5|1256677264|\n",
      "|     1|   1590|   2.5|1256677236|\n",
      "|     1|   1591|   1.5|1256677475|\n",
      "|     1|   2134|   4.5|1256677464|\n",
      "|     1|   2478|   4.0|1256677239|\n",
      "|     1|   2840|   3.0|1256677500|\n",
      "|     1|   2986|   2.5|1256677496|\n",
      "|     1|   3020|   4.0|1256677260|\n",
      "|     1|   3424|   4.5|1256677444|\n",
      "|     1|   3698|   3.5|1256677243|\n",
      "|     1|   3826|   2.0|1256677210|\n",
      "|     1|   3893|   3.5|1256677486|\n",
      "|     2|    170|   3.5|1192913581|\n",
      "|     2|    849|   3.5|1192913537|\n",
      "|     2|   1186|   3.5|1192913611|\n",
      "|     2|   1235|   3.0|1192913585|\n",
      "+------+-------+------+----------+\n",
      "only showing top 20 rows\n",
      "\n"
     ]
    }
   ],
   "source": [
    "    # Count the number of observation\n",
    "raw_ratings.show()"
   ]
  },
  {
   "cell_type": "code",
   "execution_count": 11,
   "metadata": {},
   "outputs": [
    {
     "name": "stdout",
     "output_type": "stream",
     "text": [
      "root\n",
      " |-- userId: integer (nullable = true)\n",
      " |-- movieId: integer (nullable = true)\n",
      " |-- rating: double (nullable = true)\n",
      " |-- timestamp: integer (nullable = true)\n",
      "\n"
     ]
    }
   ],
   "source": [
    "    # Show the schema \n",
    "raw_ratings.printSchema()"
   ]
  },
  {
   "cell_type": "code",
   "execution_count": 12,
   "metadata": {},
   "outputs": [
    {
     "data": {
      "text/plain": [
       "27753444"
      ]
     },
     "execution_count": 12,
     "metadata": {},
     "output_type": "execute_result"
    }
   ],
   "source": [
    "     # Count the number of observation    \n",
    "raw_ratings.count()"
   ]
  },
  {
   "cell_type": "markdown",
   "metadata": {},
   "source": [
    "### Join datasets"
   ]
  },
  {
   "cell_type": "markdown",
   "metadata": {},
   "source": [
    "In order to continue with the exploration, we will merge both datasets."
   ]
  },
  {
   "cell_type": "code",
   "execution_count": 5,
   "metadata": {},
   "outputs": [],
   "source": [
    "    # Join both the data frames to add movie data into ratings\n",
    "movie_ratings = raw_ratings.join(other=raw_movies, on=[\"movieId\"], how=\"left\")"
   ]
  },
  {
   "cell_type": "markdown",
   "metadata": {},
   "source": [
    "As we can see above, we have our new dataset ready to perform the EDA."
   ]
  },
  {
   "cell_type": "markdown",
   "metadata": {},
   "source": [
    "***"
   ]
  },
  {
   "cell_type": "markdown",
   "metadata": {},
   "source": [
    "***"
   ]
  },
  {
   "cell_type": "markdown",
   "metadata": {},
   "source": [
    "## Sparcity"
   ]
  },
  {
   "cell_type": "code",
   "execution_count": 77,
   "metadata": {},
   "outputs": [
    {
     "name": "stdout",
     "output_type": "stream",
     "text": [
      "The movie_ratings dataframe is  99.82% empty.\n"
     ]
    }
   ],
   "source": [
    "# Count the total number of ratings in the dataset\n",
    "numerator = movie_ratings.select(\"rating\").count()\n",
    "\n",
    "# Count the number of distinct Id's\n",
    "num_users = movie_ratings.select(\"userId\").distinct().count()\n",
    "num_items = movie_ratings.select(\"movieId\").distinct().count()\n",
    "\n",
    "# Set the denominator equal to the number of users multiplied by the number of items\n",
    "denominator = num_users * num_items\n",
    "\n",
    "# Divide the numerator by the denominator\n",
    "sparsity = (1.0 - (numerator * 1.0)/ denominator) * 100\n",
    "print(\"The movie_ratings dataframe is \", \"%.2f\" % sparsity + \"% empty.\")"
   ]
  },
  {
   "cell_type": "markdown",
   "metadata": {},
   "source": [
    "At this point you will be think what is Sparcity? well this is answer in the theory part (`00_THEORY`). Anyway, we will explain a breaf summary about it.\n",
    "\n",
    "In a real world setting, the vast majority of movies receive very few or even no ratings at all by users. A variable with sparse data is one in which a relatively high percentage of the variable's cells do not contain actual data. Such \"empty,\" or NA, values take up storage space in the file."
   ]
  },
  {
   "cell_type": "markdown",
   "metadata": {},
   "source": [
    "***"
   ]
  },
  {
   "cell_type": "markdown",
   "metadata": {},
   "source": [
    "***"
   ]
  },
  {
   "cell_type": "markdown",
   "metadata": {},
   "source": [
    "## EDA"
   ]
  },
  {
   "cell_type": "markdown",
   "metadata": {},
   "source": [
    "In this part, we will perform the EDA, so we can see more details of these dataset. First of all, we will look up the first and last rows, get the data shape, schema, dictionary of the variables... Also we will study if we have to drop some variables, study NaN and duplicated data."
   ]
  },
  {
   "cell_type": "markdown",
   "metadata": {},
   "source": [
    "### Dictionary"
   ]
  },
  {
   "cell_type": "markdown",
   "metadata": {},
   "source": [
    "- `movieId`: Identification number for the movie.\n",
    "- `userId`: Identification number for the user.\n",
    "- `rarting`: Ratings are made on a 5-star scale, with half-star increments (0.5 stars - 5.0 stars).\n",
    "- `timestamp`: Timestamps represent seconds since midnight Coordinated Universal Time (UTC) of January 1, 1970.\n",
    "- `title`: Title and year of the movie.\n",
    "- `genres`: Genres are a pipe-separated list."
   ]
  },
  {
   "cell_type": "markdown",
   "metadata": {},
   "source": [
    "### Data structure"
   ]
  },
  {
   "cell_type": "code",
   "execution_count": 6,
   "metadata": {
    "scrolled": false
   },
   "outputs": [
    {
     "name": "stdout",
     "output_type": "stream",
     "text": [
      "+-------+------+------+----------+--------------------+--------------------+\n",
      "|movieId|userId|rating| timestamp|               title|              genres|\n",
      "+-------+------+------+----------+--------------------+--------------------+\n",
      "|    307|     1|   3.5|1256677221|Three Colors: Blu...|               Drama|\n",
      "|    481|     1|   3.5|1256677456|   Kalifornia (1993)|      Drama|Thriller|\n",
      "|   1091|     1|   1.5|1256677471|Weekend at Bernie...|              Comedy|\n",
      "|   1257|     1|   4.5|1256677460|Better Off Dead.....|      Comedy|Romance|\n",
      "|   1449|     1|   4.5|1256677264|Waiting for Guffm...|              Comedy|\n",
      "|   1590|     1|   2.5|1256677236|Event Horizon (1997)|Horror|Sci-Fi|Thr...|\n",
      "|   1591|     1|   1.5|1256677475|        Spawn (1997)|Action|Adventure|...|\n",
      "|   2134|     1|   4.5|1256677464|Weird Science (1985)|Comedy|Fantasy|Sc...|\n",
      "|   2478|     1|   4.0|1256677239|¡Three Amigos! (1...|      Comedy|Western|\n",
      "|   2840|     1|   3.0|1256677500|     Stigmata (1999)|      Drama|Thriller|\n",
      "|   2986|     1|   2.5|1256677496|    RoboCop 2 (1990)|Action|Crime|Sci-...|\n",
      "|   3020|     1|   4.0|1256677260| Falling Down (1993)|        Action|Drama|\n",
      "|   3424|     1|   4.5|1256677444|Do the Right Thin...|               Drama|\n",
      "|   3698|     1|   3.5|1256677243|Running Man, The ...|       Action|Sci-Fi|\n",
      "|   3826|     1|   2.0|1256677210|   Hollow Man (2000)|Horror|Sci-Fi|Thr...|\n",
      "|   3893|     1|   3.5|1256677486|  Nurse Betty (2000)|Comedy|Crime|Dram...|\n",
      "|    170|     2|   3.5|1192913581|      Hackers (1995)|Action|Adventure|...|\n",
      "|    849|     2|   3.5|1192913537|Escape from L.A. ...|Action|Adventure|...|\n",
      "|   1186|     2|   3.5|1192913611|Sex, Lies, and Vi...|               Drama|\n",
      "|   1235|     2|   3.0|1192913585|Harold and Maude ...|Comedy|Drama|Romance|\n",
      "+-------+------+------+----------+--------------------+--------------------+\n",
      "only showing top 20 rows\n",
      "\n"
     ]
    }
   ],
   "source": [
    "    # Show the dataset\n",
    "movie_ratings.show()"
   ]
  },
  {
   "cell_type": "markdown",
   "metadata": {},
   "source": [
    "Here we can see the first 20 rows of our dataset. Genre column has various genres associated with that movie but we need to process on each genre separately and hence we will split the genre with the ‘|’ operator and then use explode so that every distinct genre will be in their own row. This will ignore null or empty genres if present in the dataset and if for some reason you want them to persist then you can go for explode_outer as it will also store null or empty values."
   ]
  },
  {
   "cell_type": "markdown",
   "metadata": {},
   "source": [
    "We will create a schema to ensure that each column has the desired data type as we need. "
   ]
  },
  {
   "cell_type": "code",
   "execution_count": 15,
   "metadata": {},
   "outputs": [
    {
     "name": "stdout",
     "output_type": "stream",
     "text": [
      "root\n",
      " |-- movieId: integer (nullable = true)\n",
      " |-- userId: integer (nullable = true)\n",
      " |-- rating: double (nullable = true)\n",
      " |-- timestamp: integer (nullable = true)\n",
      " |-- title: string (nullable = true)\n",
      " |-- genres: string (nullable = true)\n",
      "\n"
     ]
    }
   ],
   "source": [
    "    # Show the schema\n",
    "movie_ratings.printSchema()"
   ]
  },
  {
   "cell_type": "code",
   "execution_count": 16,
   "metadata": {},
   "outputs": [
    {
     "data": {
      "text/plain": [
       "['movieId', 'userId', 'rating', 'timestamp', 'title', 'genres']"
      ]
     },
     "execution_count": 16,
     "metadata": {},
     "output_type": "execute_result"
    }
   ],
   "source": [
    "    # Another way to see the column names\n",
    "movie_ratings.columns"
   ]
  },
  {
   "cell_type": "code",
   "execution_count": 17,
   "metadata": {},
   "outputs": [
    {
     "data": {
      "text/plain": [
       "27753444"
      ]
     },
     "execution_count": 17,
     "metadata": {},
     "output_type": "execute_result"
    }
   ],
   "source": [
    "    # Data shape\n",
    "movie_ratings.count()"
   ]
  },
  {
   "cell_type": "markdown",
   "metadata": {},
   "source": [
    "### Data describe"
   ]
  },
  {
   "cell_type": "code",
   "execution_count": 18,
   "metadata": {},
   "outputs": [
    {
     "name": "stdout",
     "output_type": "stream",
     "text": [
      "+-------+-----------------+------------------+------------------+--------------------+--------------------+------------------+\n",
      "|summary|          movieId|            userId|            rating|           timestamp|               title|            genres|\n",
      "+-------+-----------------+------------------+------------------+--------------------+--------------------+------------------+\n",
      "|  count|         27753444|          27753444|          27753444|            27753444|            27753444|          27753444|\n",
      "|   mean|18487.99983414671|141942.01557064414|3.5304452124932677|1.1931218549319255E9|                null|              null|\n",
      "| stddev| 35102.6252474677| 81707.40009148984|1.0663527502319696|2.1604822852233613E8|                null|              null|\n",
      "|    min|                1|                 1|               0.5|           789652004|\"\"\"Great Performa...|(no genres listed)|\n",
      "|    max|           193886|            283228|               5.0|          1537945149|     줄탁동시 (2012)|           Western|\n",
      "+-------+-----------------+------------------+------------------+--------------------+--------------------+------------------+\n",
      "\n"
     ]
    }
   ],
   "source": [
    "movie_ratings.describe().show()"
   ]
  },
  {
   "cell_type": "markdown",
   "metadata": {},
   "source": [
    "Here we can see that we have 27 Millions of rows in our dataframe. Furthermore, we can observe that it has 193886 movies and 283228 different users. This lead as to conclude that we have possible nulls and/or the users just publish 100 ratings more or less. The lowest rating provided to the movies is 0.5 and the max is 5 points, the average rating is 3.5 points out of 5 with a SD of 1 point."
   ]
  },
  {
   "cell_type": "code",
   "execution_count": 19,
   "metadata": {},
   "outputs": [],
   "source": [
    "# ESTARÍA BIEN CONTAR DUPLICADOS Y VALORES NULOS"
   ]
  },
  {
   "cell_type": "markdown",
   "metadata": {},
   "source": [
    "***"
   ]
  },
  {
   "cell_type": "markdown",
   "metadata": {},
   "source": [
    "### Genres analysis"
   ]
  },
  {
   "cell_type": "markdown",
   "metadata": {},
   "source": [
    "Here we will perform the `genres` column analysis in order to study which of the different genres are most rated, better rated or their distributions..."
   ]
  },
  {
   "cell_type": "code",
   "execution_count": 7,
   "metadata": {},
   "outputs": [
    {
     "name": "stdout",
     "output_type": "stream",
     "text": [
      "+-------+------+------+----------+--------------------+---------+\n",
      "|movieId|userId|rating| timestamp|               title|   genres|\n",
      "+-------+------+------+----------+--------------------+---------+\n",
      "|    307|     1|   3.5|1256677221|Three Colors: Blu...|    Drama|\n",
      "|    481|     1|   3.5|1256677456|   Kalifornia (1993)|    Drama|\n",
      "|    481|     1|   3.5|1256677456|   Kalifornia (1993)| Thriller|\n",
      "|   1091|     1|   1.5|1256677471|Weekend at Bernie...|   Comedy|\n",
      "|   1257|     1|   4.5|1256677460|Better Off Dead.....|   Comedy|\n",
      "|   1257|     1|   4.5|1256677460|Better Off Dead.....|  Romance|\n",
      "|   1449|     1|   4.5|1256677264|Waiting for Guffm...|   Comedy|\n",
      "|   1590|     1|   2.5|1256677236|Event Horizon (1997)|   Horror|\n",
      "|   1590|     1|   2.5|1256677236|Event Horizon (1997)|   Sci-Fi|\n",
      "|   1590|     1|   2.5|1256677236|Event Horizon (1997)| Thriller|\n",
      "|   1591|     1|   1.5|1256677475|        Spawn (1997)|   Action|\n",
      "|   1591|     1|   1.5|1256677475|        Spawn (1997)|Adventure|\n",
      "|   1591|     1|   1.5|1256677475|        Spawn (1997)|   Sci-Fi|\n",
      "|   1591|     1|   1.5|1256677475|        Spawn (1997)| Thriller|\n",
      "|   2134|     1|   4.5|1256677464|Weird Science (1985)|   Comedy|\n",
      "|   2134|     1|   4.5|1256677464|Weird Science (1985)|  Fantasy|\n",
      "|   2134|     1|   4.5|1256677464|Weird Science (1985)|   Sci-Fi|\n",
      "|   2478|     1|   4.0|1256677239|¡Three Amigos! (1...|   Comedy|\n",
      "|   2478|     1|   4.0|1256677239|¡Three Amigos! (1...|  Western|\n",
      "|   2840|     1|   3.0|1256677500|     Stigmata (1999)|    Drama|\n",
      "+-------+------+------+----------+--------------------+---------+\n",
      "only showing top 20 rows\n",
      "\n"
     ]
    }
   ],
   "source": [
    "    # Lets split the data by |\n",
    "df_genres_split = movie_ratings.withColumn(\"genres\", explode(split(\"genres\", \"[|]\")))\n",
    "df_genres_split.show()"
   ]
  },
  {
   "cell_type": "markdown",
   "metadata": {},
   "source": [
    "First, we have to understand how withColumn works, withColumn is used to create a new column in the dataframe with some condition or just populating constant values. If column exists already as in this case (genre column) we can populate it with some condition passed alongside it.\n",
    "\n",
    "Once we have the data in the correct we can show which of the genres is the most popular."
   ]
  },
  {
   "cell_type": "code",
   "execution_count": 21,
   "metadata": {},
   "outputs": [
    {
     "name": "stdout",
     "output_type": "stream",
     "text": [
      "+------------------+--------+\n",
      "|            genres|   count|\n",
      "+------------------+--------+\n",
      "|(no genres listed)|   18389|\n",
      "|         Film-Noir|  272742|\n",
      "|       Documentary|  345471|\n",
      "|           Western|  542424|\n",
      "|              IMAX| 1102179|\n",
      "|           Musical| 1109674|\n",
      "|               War| 1426112|\n",
      "|         Animation| 1803041|\n",
      "|            Horror| 2070791|\n",
      "|           Mystery| 2210388|\n",
      "|          Children| 2381124|\n",
      "|           Fantasy| 3118549|\n",
      "|             Crime| 4631581|\n",
      "|            Sci-Fi| 4740208|\n",
      "|           Romance| 5078478|\n",
      "|         Adventure| 6452309|\n",
      "|          Thriller| 7489628|\n",
      "|            Action| 8214956|\n",
      "|            Comedy| 9999184|\n",
      "|             Drama|12191048|\n",
      "+------------------+--------+\n",
      "\n"
     ]
    }
   ],
   "source": [
    "    # Count the different genres\n",
    "df_genres_split.groupBy(\"genres\").count().sort(\"count\").show()"
   ]
  },
  {
   "cell_type": "markdown",
   "metadata": {},
   "source": [
    "We can see that we have 18389 movies with *(no genres listed)*, also we can see that the most common genre is *Drama*, follow by *Comedy* and *Action*. \n",
    "\n",
    "For further information we will explore those movies without genres listed:"
   ]
  },
  {
   "cell_type": "code",
   "execution_count": 22,
   "metadata": {},
   "outputs": [
    {
     "name": "stdout",
     "output_type": "stream",
     "text": [
      "+-------+------+------+----------+--------------------+------------------+\n",
      "|movieId|userId|rating| timestamp|               title|            genres|\n",
      "+-------+------+------+----------+--------------------+------------------+\n",
      "| 166024|    14|   4.5|1497536861|     Whiplash (2013)|(no genres listed)|\n",
      "| 122896|    75|   1.5|1511888856|Pirates of the Ca...|(no genres listed)|\n",
      "| 125958|   119|   5.0|1474471558|Stephen Fry In Am...|(no genres listed)|\n",
      "| 138212|   134|   4.0|1485104419|     Spectral (2016)|(no genres listed)|\n",
      "| 141866|   173|   3.5|1484060054|   Green Room (2015)|(no genres listed)|\n",
      "| 130060|   176|   3.0|1499892811|Des fleurs pour A...|(no genres listed)|\n",
      "| 147942|   176|   4.0|1535836533|       Room 8 (2013)|(no genres listed)|\n",
      "| 155927|   176|   3.5|1499880225|    Vdrebezgi (2011)|(no genres listed)|\n",
      "| 162290|   176|   2.0|1499891266|         Lift (2006)|(no genres listed)|\n",
      "| 166562|   176|   4.5|1499893111|Panfilov's 28 Men...|(no genres listed)|\n",
      "| 179111|   214|   4.0|1526756315|Montparnasse Bien...|(no genres listed)|\n",
      "| 141866|   248|   3.0|1511186313|   Green Room (2015)|(no genres listed)|\n",
      "| 156605|   248|   3.5|1511282693|            Paterson|(no genres listed)|\n",
      "| 170117|   248|   2.0|1511282917|   Next Floor (2008)|(no genres listed)|\n",
      "| 131556|   277|   3.5|1427935296|       Inside (2012)|(no genres listed)|\n",
      "| 131560|   277|   3.5|1427935456|       Vavien (2009)|(no genres listed)|\n",
      "| 122896|   339|   1.0|1530894041|Pirates of the Ca...|(no genres listed)|\n",
      "| 134817|   339|   4.0|1517660683|Heaven and Earth ...|(no genres listed)|\n",
      "| 147250|   339|   2.0|1513839159|The Adventures of...|(no genres listed)|\n",
      "| 150629|   339|   0.5|1517660099|Las aventuras de ...|(no genres listed)|\n",
      "+-------+------+------+----------+--------------------+------------------+\n",
      "only showing top 20 rows\n",
      "\n"
     ]
    }
   ],
   "source": [
    "    # Filter the movies by \"(no genres listed)\"\n",
    "df_genres_split.filter(df_genres_split.genres == \"(no genres listed)\").show()"
   ]
  },
  {
   "cell_type": "markdown",
   "metadata": {},
   "source": [
    "There are some of these films that are known as *Pirates of the Caribean* with no genre, so probably they are NaN (or database errors) but we do not need care about that becouse ALS algorithm is prepared to work with that kind of NaN."
   ]
  },
  {
   "cell_type": "markdown",
   "metadata": {},
   "source": [
    "#### Genres describe"
   ]
  },
  {
   "cell_type": "code",
   "execution_count": 23,
   "metadata": {},
   "outputs": [
    {
     "name": "stdout",
     "output_type": "stream",
     "text": [
      "+------------------+------------------+-----------+-----------+-------------------+---------------------+\n",
      "|            genres|       avg(rating)|min(rating)|max(rating)|stddev_samp(rating)|Variation Coefficient|\n",
      "+------------------+------------------+-----------+-----------+-------------------+---------------------+\n",
      "|             Crime| 3.683522430029832|        0.5|        5.0| 1.0153457266291877|  0.27564532208399356|\n",
      "|           Romance| 3.541861853098507|        0.5|        5.0| 1.0514365272045683|   0.2968598355367096|\n",
      "|          Thriller|3.5188010672893233|        0.5|        5.0|  1.042630316405843|  0.29630271688220894|\n",
      "|         Adventure|3.5132836167641694|        0.5|        5.0|  1.072788530508082|   0.3053521000664756|\n",
      "|             Drama|3.6763707271105814|        0.5|        5.0| 1.0044495225847476|   0.2732176913437095|\n",
      "|               War| 3.796596971345869|        0.5|        5.0| 0.9979888474744628|  0.26286404772658345|\n",
      "|       Documentary|3.7108599564073397|        0.5|        5.0| 1.0252516966700138|  0.27628412516612694|\n",
      "|           Fantasy|  3.50720832027972|        0.5|        5.0| 1.0928532954675731|   0.3116020480301586|\n",
      "|           Mystery|3.6655695742105006|        0.5|        5.0| 1.0134600957146136|  0.27648093296193815|\n",
      "|           Musical|3.5427517451071218|        0.5|        5.0|  1.064268969769636|   0.3004074364622057|\n",
      "|         Animation| 3.607309262518157|        0.5|        5.0| 1.0409454668357994|  0.28856562913853023|\n",
      "|         Film-Noir| 3.928678018053692|        0.5|        5.0| 0.9196679176849989|  0.23409093681355236|\n",
      "|(no genres listed)|3.2913970308336506|        0.5|        5.0| 1.1766157278104552|   0.3574821623729909|\n",
      "|              IMAX|3.6189756836230775|        0.5|        5.0| 1.0502405895934437|   0.2902038260013985|\n",
      "|            Horror|3.2843780468429697|        0.5|        5.0| 1.1486625759316744|   0.3497351886868806|\n",
      "|           Western|3.5776726324793886|        0.5|        5.0| 1.0259731469378357|   0.2867711085759176|\n",
      "|            Comedy| 3.419786704595095|        0.5|        5.0|  1.088112774120192|  0.31818147390833407|\n",
      "|          Children| 3.423892875801512|        0.5|        5.0|  1.103512070604033|  0.32229748728505636|\n",
      "|            Action|3.4625655329133838|        0.5|        5.0| 1.0755507791158543|  0.31062250487166715|\n",
      "|            Sci-Fi|3.4704759791131528|        0.5|        5.0| 1.0926346711131847|  0.31483712254144375|\n",
      "+------------------+------------------+-----------+-----------+-------------------+---------------------+\n",
      "\n"
     ]
    }
   ],
   "source": [
    "df_genres_split.groupBy(\"genres\").agg(avg(\"rating\"), min(\"rating\"), max(\"rating\"), \\\n",
    "                                    stddev(\"rating\"), stddev(\"rating\")/avg(\"rating\")) \\\n",
    "                                    .withColumnRenamed(\"(stddev_samp(rating) / avg(rating))\", \"Variation Coefficient\") \\\n",
    "                                    .show()"
   ]
  },
  {
   "cell_type": "markdown",
   "metadata": {},
   "source": [
    "Above, we can observe that the most rating genre is *Film-Noir* with 3.8 on average, follow by *War, Documentary, Crime* and least *Drama* with 3.71, 3.68 and 3.67, respectively, on average.Plus, the movie with the highest standard deviation are the *no genres listed* follow by Horror movies with 1.14. Due to this, the genred with the highest Variation coefficient are the *no genres listed* and *horror* movies. "
   ]
  },
  {
   "cell_type": "markdown",
   "metadata": {},
   "source": [
    "#### Genres plots"
   ]
  },
  {
   "cell_type": "markdown",
   "metadata": {},
   "source": [
    "##### Bar plots"
   ]
  },
  {
   "cell_type": "markdown",
   "metadata": {},
   "source": [
    "If we want to plot the DF we have to transform our spark dataframes into Pandas object."
   ]
  },
  {
   "cell_type": "code",
   "execution_count": 24,
   "metadata": {},
   "outputs": [
    {
     "data": {
      "image/png": "[encoded data removed]",
      "text/plain": [
       "<Figure size 1440x720 with 1 Axes>"
      ]
     },
     "metadata": {
      "needs_background": "light"
     },
     "output_type": "display_data"
    }
   ],
   "source": [
    "# COUNT GENRES\n",
    "    # First, we group by genres, count them and sort, and transform into a pandas object\n",
    "df_genres_split_grouped = df_genres_split.groupBy(\"genres\").count().sort(\"count\").toPandas()\n",
    "\n",
    "    # Secondly, we create the plot\n",
    "plt.figure(figsize=(20,10))\n",
    "plt.bar(df_genres_split_grouped[\"genres\"], df_genres_split_grouped[\"count\"], color=\"steelblue\")\n",
    "plt.title(\"Genres distribution\", fontsize=20)\n",
    "plt.xticks(rotation=45)\n",
    "plt.show()"
   ]
  },
  {
   "cell_type": "markdown",
   "metadata": {},
   "source": [
    "As we showed before, *Film-Noir* is the genre with highest rating on average we will like to plot his distribution in order to study its behavior."
   ]
  },
  {
   "cell_type": "code",
   "execution_count": 25,
   "metadata": {},
   "outputs": [
    {
     "data": {
      "image/png": "[encoded data removed]",
      "text/plain": [
       "<Figure size 1440x720 with 1 Axes>"
      ]
     },
     "metadata": {
      "needs_background": "light"
     },
     "output_type": "display_data"
    }
   ],
   "source": [
    "# RATING DISTRIBUTION FILM-NOIR\n",
    "    # First, we create our pandas object\n",
    "df_filmnoir = df_genres_split.filter(df_genres_split.genres == \"Film-Noir\").select(\"genres\",\"rating\")\n",
    "df_filmnoir_rating = df_filmnoir.groupBy(\"rating\").count().toPandas()\n",
    "\n",
    "    # Parametrize the plot\n",
    "df_plot = df_filmnoir_rating\n",
    "color = \"cadetblue\"\n",
    "bin_width = 0.3\n",
    "\n",
    "    # Create a bar plot\n",
    "plt.figure(figsize=(20,10))\n",
    "plt.bar(df_plot[\"rating\"], df_plot[\"count\"], color=color, width=bin_width)\n",
    "plt.title(\"Film-Noir movies with their rating distribution\", fontsize=20)\n",
    "plt.show()"
   ]
  },
  {
   "cell_type": "markdown",
   "metadata": {},
   "source": [
    "We can observe that the majority of the ratings are very good (4 out of 5). Next, they don't have low ratings between 1 and 2. Finally, the distribution is concentrated between 3 and 5 so it has left-skewed."
   ]
  },
  {
   "cell_type": "markdown",
   "metadata": {},
   "source": [
    "Now, we will plot the worst genres rated to show the difference between Film-Noir movies and Horror movies.\n",
    "\n",
    "Our initial hypothesis is the distribution will not change as much as the Film-Noir movies because on average they are actually similar"
   ]
  },
  {
   "cell_type": "code",
   "execution_count": 26,
   "metadata": {},
   "outputs": [
    {
     "data": {
      "image/png": "[encoded data removed]",
      "text/plain": [
       "<Figure size 1440x720 with 1 Axes>"
      ]
     },
     "metadata": {
      "needs_background": "light"
     },
     "output_type": "display_data"
    }
   ],
   "source": [
    "# RATING DISTRIBUTION HORROR MOVIES\n",
    "df_horror = df_genres_split.filter(df_genres_split.genres == \"Horror\").select(\"genres\",\"rating\")\n",
    "df_horror_rating = df_horror.groupBy(\"rating\").count().toPandas()\n",
    "\n",
    "    # Parametrize the plot\n",
    "df_plot = df_horror_rating\n",
    "color = \"lightskyblue\"\n",
    "bin_width = 0.3\n",
    "\n",
    "    # Create a bar plot\n",
    "plt.figure(figsize=(20,10))\n",
    "plt.bar(df_plot[\"rating\"], df_plot[\"count\"], color=color, width=bin_width)\n",
    "plt.title(\"Horror movies with their rating distribution\", fontsize=20)\n",
    "plt.show()"
   ]
  },
  {
   "cell_type": "markdown",
   "metadata": {},
   "source": [
    "As we said before, the majority of the distribution is in the range of 3 and 5 with more 3's than the Film-Noir movies. Plus, it has less 5's ratings and an increase in the lowest puntuation than the Film-Noir movies."
   ]
  },
  {
   "cell_type": "markdown",
   "metadata": {},
   "source": [
    "##### Box-plots"
   ]
  },
  {
   "cell_type": "markdown",
   "metadata": {},
   "source": [
    "Finally, we will plot the boxplot distribution of the genres, in order to study the minimum, first quartile, median, third quartile, and maximum."
   ]
  },
  {
   "cell_type": "markdown",
   "metadata": {},
   "source": [
    "Due to the big ammount of data, we can not plot all the genres of each movie, because we will create a pandas object to heavy... So in order to avoid this problem, we will rank the genres of each movie, so we will only have one genre per movie."
   ]
  },
  {
   "cell_type": "code",
   "execution_count": 27,
   "metadata": {},
   "outputs": [
    {
     "data": {
      "text/plain": [
       "75198276"
      ]
     },
     "execution_count": 27,
     "metadata": {},
     "output_type": "execute_result"
    }
   ],
   "source": [
    "    # If use all the genres...\n",
    "df_genres_split.select(\"genres\",\"rating\").count()"
   ]
  },
  {
   "cell_type": "markdown",
   "metadata": {},
   "source": [
    "As we can see above, 75M rows is too much, so we will reduce this amount of data:"
   ]
  },
  {
   "cell_type": "code",
   "execution_count": 8,
   "metadata": {},
   "outputs": [
    {
     "name": "stdout",
     "output_type": "stream",
     "text": [
      "+-------+------+------+----------+--------------------+---------+----+\n",
      "|movieId|userId|rating| timestamp|               title|   genres|rank|\n",
      "+-------+------+------+----------+--------------------+---------+----+\n",
      "|   4721|     4|   3.5|1113796477|American Outlaws ...|   Action|   1|\n",
      "|   4721|     4|   3.5|1113796477|American Outlaws ...|   Comedy|   2|\n",
      "|   4721|     4|   3.5|1113796477|American Outlaws ...|  Western|   3|\n",
      "|   4022|     4|   0.5|1113765941|    Cast Away (2000)|    Drama|   1|\n",
      "|    435|     4|   2.0|1115782018|    Coneheads (1993)|   Comedy|   1|\n",
      "|    435|     4|   2.0|1115782018|    Coneheads (1993)|   Sci-Fi|   2|\n",
      "|  44191|     4|   5.0|1145937408|V for Vendetta (2...|   Action|   1|\n",
      "|  44191|     4|   5.0|1145937408|V for Vendetta (2...|   Sci-Fi|   2|\n",
      "|  44191|     4|   5.0|1145937408|V for Vendetta (2...| Thriller|   3|\n",
      "|  44191|     4|   5.0|1145937408|V for Vendetta (2...|     IMAX|   4|\n",
      "|  89804|    15|   3.0|1370976769|Ides of March, Th...|    Drama|   1|\n",
      "|    365|    15|   3.5|1370809370|Little Buddha (1993)|    Drama|   1|\n",
      "|    196|    18|   3.0| 845061636|      Species (1995)|   Horror|   1|\n",
      "|    196|    18|   3.0| 845061636|      Species (1995)|   Sci-Fi|   2|\n",
      "|   3033|    26|   5.0|1225240325|   Spaceballs (1987)|   Comedy|   1|\n",
      "|   3033|    26|   5.0|1225240325|   Spaceballs (1987)|   Sci-Fi|   2|\n",
      "|   3578|    34|   5.0|1472946547|    Gladiator (2000)|   Action|   1|\n",
      "|   3578|    34|   5.0|1472946547|    Gladiator (2000)|Adventure|   2|\n",
      "|   3578|    34|   5.0|1472946547|    Gladiator (2000)|    Drama|   3|\n",
      "|   3996|    36|   3.0|1529363149|Crouching Tiger, ...|   Action|   1|\n",
      "+-------+------+------+----------+--------------------+---------+----+\n",
      "only showing top 20 rows\n",
      "\n"
     ]
    }
   ],
   "source": [
    "    # Here we will create a new column, called rank in order to list the different genres of one film\n",
    "df_ranked_genres = df_genres_split.withColumn(\"rank\", row_number().over(Window.partitionBy(\"userId\",\"title\").orderBy(\"rating\")))\n",
    "df_ranked_genres.show()"
   ]
  },
  {
   "cell_type": "markdown",
   "metadata": {},
   "source": [
    "We will achieve this by using window operations in spark, which is widely used in development. We will create a window where movieId and title is same, which will club these together and will store them in the same partition if they contain same values for movieId and title and order them by rating (Although in real-life scenarios we might get different timestamps and we have to order them by that but here timestamps are same so we can order them by rating or timestamp). And with the help of row number, we will give a serial numbering to it and then we can pick the lowest or the highest value of the row number but do that we have persisted these rank values and with column is used for that. It will create a new column named rank with increasing serial values."
   ]
  },
  {
   "cell_type": "code",
   "execution_count": 9,
   "metadata": {},
   "outputs": [
    {
     "name": "stdout",
     "output_type": "stream",
     "text": [
      "+-------+------+------+----------+--------------------+---------+----+\n",
      "|movieId|userId|rating| timestamp|               title|   genres|rank|\n",
      "+-------+------+------+----------+--------------------+---------+----+\n",
      "|   4721|     4|   3.5|1113796477|American Outlaws ...|   Action|   1|\n",
      "|   4022|     4|   0.5|1113765941|    Cast Away (2000)|    Drama|   1|\n",
      "|    435|     4|   2.0|1115782018|    Coneheads (1993)|   Comedy|   1|\n",
      "|  44191|     4|   5.0|1145937408|V for Vendetta (2...|   Action|   1|\n",
      "|  89804|    15|   3.0|1370976769|Ides of March, Th...|    Drama|   1|\n",
      "|    365|    15|   3.5|1370809370|Little Buddha (1993)|    Drama|   1|\n",
      "|    196|    18|   3.0| 845061636|      Species (1995)|   Horror|   1|\n",
      "|   3033|    26|   5.0|1225240325|   Spaceballs (1987)|   Comedy|   1|\n",
      "|   3578|    34|   5.0|1472946547|    Gladiator (2000)|   Action|   1|\n",
      "|   3996|    36|   3.0|1529363149|Crouching Tiger, ...|   Action|   1|\n",
      "|   1884|    42|   4.0|1251234856|Fear and Loathing...|Adventure|   1|\n",
      "|   1282|    43|   5.0|1084552045|     Fantasia (1940)|Animation|   1|\n",
      "|   3578|    43|   4.5|1084494883|    Gladiator (2000)|   Action|   1|\n",
      "|   1711|    43|   4.0|1084489984|Midnight in the G...|    Crime|   1|\n",
      "|   5400|    45|   4.0|1082139555|Sum of All Fears,...|    Drama|   1|\n",
      "|   3949|    48|   5.0|1527519321|Requiem for a Dre...|    Drama|   1|\n",
      "|    111|    48|   4.5|1527521207|  Taxi Driver (1976)|    Crime|   1|\n",
      "|   1785|    51|   3.0| 922276549|King of New York ...|    Crime|   1|\n",
      "|   1028|    51|   4.0| 922261725| Mary Poppins (1964)| Children|   1|\n",
      "|    954|    51|   4.0| 922274326|Mr. Smith Goes to...|    Drama|   1|\n",
      "+-------+------+------+----------+--------------------+---------+----+\n",
      "only showing top 20 rows\n",
      "\n"
     ]
    }
   ],
   "source": [
    "    # Lets filter by the first gnere of each film\n",
    "df_first_rank_genres = df_ranked_genres.filter(df_ranked_genres.rank == 1)\n",
    "df_first_rank_genres.show()"
   ]
  },
  {
   "cell_type": "markdown",
   "metadata": {},
   "source": [
    "Above we only have one genre per each film, so this will reduce our plot data..."
   ]
  },
  {
   "cell_type": "code",
   "execution_count": 50,
   "metadata": {},
   "outputs": [
    {
     "data": {
      "text/plain": [
       "27752817"
      ]
     },
     "execution_count": 50,
     "metadata": {},
     "output_type": "execute_result"
    }
   ],
   "source": [
    "df_first_rank_genres.count()"
   ]
  },
  {
   "cell_type": "code",
   "execution_count": 51,
   "metadata": {},
   "outputs": [],
   "source": [
    "df_first_rank_genres = df_first_rank_genres.withColumn(\"rating\", df_first_rank_genres[\"rating\"].cast(FloatType()))"
   ]
  },
  {
   "cell_type": "code",
   "execution_count": 52,
   "metadata": {},
   "outputs": [],
   "source": [
    "df = df_first_rank_genres.select(\"genres\", \"rating\").toHandy()"
   ]
  },
  {
   "cell_type": "code",
   "execution_count": 53,
   "metadata": {},
   "outputs": [
    {
     "name": "stdout",
     "output_type": "stream",
     "text": [
      "+---------+------+\n",
      "|   genres|rating|\n",
      "+---------+------+\n",
      "|   Action|   3.5|\n",
      "|    Drama|   0.5|\n",
      "|   Comedy|   2.0|\n",
      "|   Action|   5.0|\n",
      "|    Drama|   3.0|\n",
      "|    Drama|   3.5|\n",
      "|   Horror|   3.0|\n",
      "|   Comedy|   5.0|\n",
      "|   Action|   5.0|\n",
      "|   Action|   3.0|\n",
      "|Adventure|   4.0|\n",
      "|Animation|   5.0|\n",
      "|   Action|   4.5|\n",
      "|    Crime|   4.0|\n",
      "|    Drama|   4.0|\n",
      "|    Drama|   5.0|\n",
      "|    Crime|   4.5|\n",
      "|    Crime|   3.0|\n",
      "| Children|   4.0|\n",
      "|    Drama|   4.0|\n",
      "+---------+------+\n",
      "only showing top 20 rows\n",
      "\n"
     ]
    }
   ],
   "source": [
    "df.show()"
   ]
  },
  {
   "cell_type": "code",
   "execution_count": 54,
   "metadata": {},
   "outputs": [
    {
     "name": "stdout",
     "output_type": "stream",
     "text": [
      "root\n",
      " |-- genres: string (nullable = true)\n",
      " |-- rating: float (nullable = true)\n",
      "\n"
     ]
    }
   ],
   "source": [
    "df.printSchema()"
   ]
  },
  {
   "cell_type": "markdown",
   "metadata": {},
   "source": [
    "***"
   ]
  },
  {
   "cell_type": "markdown",
   "metadata": {},
   "source": [
    "### Movies analysis"
   ]
  },
  {
   "cell_type": "markdown",
   "metadata": {},
   "source": [
    "#### Most popular movies"
   ]
  },
  {
   "cell_type": "markdown",
   "metadata": {},
   "source": [
    "To get the most popular movies, we are looking for the movies with the highest number of ratings (we use the number of ratings as a proxy for the number of views). To do this, we will perform the following transformations on the movie_ratings DataFrame:\n",
    "\n",
    "- group by title\n",
    "\n",
    "- count the number of users (userId) associated with each movie\n",
    "\n",
    "- rename this column to num_ratings\n",
    "\n",
    "- sort by num_ratings in descending order\n",
    "\n",
    "In the next cell, we perform these transformations in pySpark and store the DataFrame as most_popular."
   ]
  },
  {
   "cell_type": "code",
   "execution_count": 55,
   "metadata": {},
   "outputs": [],
   "source": [
    "most_popular = movie_ratings\\\n",
    "    .groupBy(\"title\")\\\n",
    "    .agg(count(\"userId\"))\\\n",
    "    .withColumnRenamed(\"count(userId)\", \"num_ratings\")\\\n",
    "    .sort(desc(\"num_ratings\"))"
   ]
  },
  {
   "cell_type": "markdown",
   "metadata": {},
   "source": [
    "The DataFrame methods we have used here are:\n",
    "\n",
    "- groupBy - groups the DataFrame by the given column\n",
    "\n",
    "- agg - allows us to perform an aggregate calculation on grouped data (this can be a built-in aggregation function such as count or a user defined function)\n",
    "\n",
    "- withColumnRenamed - renames an existing column with a new column name\n",
    "\n",
    "- sort - sorts by the specified column(s)"
   ]
  },
  {
   "cell_type": "code",
   "execution_count": 56,
   "metadata": {},
   "outputs": [
    {
     "name": "stdout",
     "output_type": "stream",
     "text": [
      "+--------------------+-----------+\n",
      "|               title|num_ratings|\n",
      "+--------------------+-----------+\n",
      "|Shawshank Redempt...|      97999|\n",
      "| Forrest Gump (1994)|      97040|\n",
      "| Pulp Fiction (1994)|      92406|\n",
      "|Silence of the La...|      87899|\n",
      "|  Matrix, The (1999)|      84545|\n",
      "|Star Wars: Episod...|      81815|\n",
      "|Jurassic Park (1993)|      76451|\n",
      "|Schindler's List ...|      71516|\n",
      "|   Braveheart (1995)|      68803|\n",
      "|    Toy Story (1995)|      68469|\n",
      "+--------------------+-----------+\n",
      "only showing top 10 rows\n",
      "\n"
     ]
    }
   ],
   "source": [
    "most_popular.show(10)"
   ]
  },
  {
   "cell_type": "markdown",
   "metadata": {},
   "source": [
    "Here we can see the first 10 movies sorted by number of ratings. So, the most rating film is Shawshank Redemption follow by Forrest Gump one of the most famous films ever created."
   ]
  },
  {
   "cell_type": "markdown",
   "metadata": {},
   "source": [
    "#### Movies by year"
   ]
  },
  {
   "cell_type": "markdown",
   "metadata": {},
   "source": [
    "At this stage, we are interested to learn about the distribution of the years by movie. To do so, we will extract the year from the title and then perform a histogram to see their distribution."
   ]
  },
  {
   "cell_type": "code",
   "execution_count": 53,
   "metadata": {},
   "outputs": [
    {
     "name": "stdout",
     "output_type": "stream",
     "text": [
      "+-------+------+------+----------+--------------------+--------------------+------+\n",
      "|movieId|userId|rating| timestamp|               title|              genres|  year|\n",
      "+-------+------+------+----------+--------------------+--------------------+------+\n",
      "|    307|     1|   3.5|1256677221|Three Colors: Blu...|               Drama|(1993)|\n",
      "|    481|     1|   3.5|1256677456|   Kalifornia (1993)|      Drama|Thriller|(1993)|\n",
      "|   1091|     1|   1.5|1256677471|Weekend at Bernie...|              Comedy|(1989)|\n",
      "|   1257|     1|   4.5|1256677460|Better Off Dead.....|      Comedy|Romance|(1985)|\n",
      "|   1449|     1|   4.5|1256677264|Waiting for Guffm...|              Comedy|(1996)|\n",
      "|   1590|     1|   2.5|1256677236|Event Horizon (1997)|Horror|Sci-Fi|Thr...|(1997)|\n",
      "|   1591|     1|   1.5|1256677475|        Spawn (1997)|Action|Adventure|...|(1997)|\n",
      "|   2134|     1|   4.5|1256677464|Weird Science (1985)|Comedy|Fantasy|Sc...|(1985)|\n",
      "|   2478|     1|   4.0|1256677239|¡Three Amigos! (1...|      Comedy|Western|(1986)|\n",
      "|   2840|     1|   3.0|1256677500|     Stigmata (1999)|      Drama|Thriller|(1999)|\n",
      "|   2986|     1|   2.5|1256677496|    RoboCop 2 (1990)|Action|Crime|Sci-...|(1990)|\n",
      "|   3020|     1|   4.0|1256677260| Falling Down (1993)|        Action|Drama|(1993)|\n",
      "|   3424|     1|   4.5|1256677444|Do the Right Thin...|               Drama|(1989)|\n",
      "|   3698|     1|   3.5|1256677243|Running Man, The ...|       Action|Sci-Fi|(1987)|\n",
      "|   3826|     1|   2.0|1256677210|   Hollow Man (2000)|Horror|Sci-Fi|Thr...|(2000)|\n",
      "|   3893|     1|   3.5|1256677486|  Nurse Betty (2000)|Comedy|Crime|Dram...|(2000)|\n",
      "|    170|     2|   3.5|1192913581|      Hackers (1995)|Action|Adventure|...|(1995)|\n",
      "|    849|     2|   3.5|1192913537|Escape from L.A. ...|Action|Adventure|...|(1996)|\n",
      "|   1186|     2|   3.5|1192913611|Sex, Lies, and Vi...|               Drama|(1989)|\n",
      "|   1235|     2|   3.0|1192913585|Harold and Maude ...|Comedy|Drama|Romance|(1971)|\n",
      "+-------+------+------+----------+--------------------+--------------------+------+\n",
      "only showing top 20 rows\n",
      "\n"
     ]
    }
   ],
   "source": [
    "df_title_year = movie_ratings.withColumn(\"year\", regexp_extract(\"title\", \"\\((\\d+)\\)\", 0))\n",
    "df_title_year.show()"
   ]
  },
  {
   "cell_type": "code",
   "execution_count": 54,
   "metadata": {},
   "outputs": [
    {
     "name": "stdout",
     "output_type": "stream",
     "text": [
      "<class 'pyspark.sql.dataframe.DataFrame'>\n"
     ]
    }
   ],
   "source": [
    "print(type(df_title_year))"
   ]
  },
  {
   "cell_type": "code",
   "execution_count": 55,
   "metadata": {},
   "outputs": [
    {
     "name": "stdout",
     "output_type": "stream",
     "text": [
      "+------+\n",
      "|  year|\n",
      "+------+\n",
      "|(1976)|\n",
      "|(1926)|\n",
      "|(2017)|\n",
      "|(1992)|\n",
      "|(1963)|\n",
      "|(2008)|\n",
      "|(1993)|\n",
      "|(1905)|\n",
      "|(1940)|\n",
      "|(1975)|\n",
      "|(1901)|\n",
      "|(1939)|\n",
      "|(1953)|\n",
      "|(1955)|\n",
      "|(1883)|\n",
      "|(1991)|\n",
      "|(1892)|\n",
      "|(1982)|\n",
      "|(1951)|\n",
      "|(2012)|\n",
      "+------+\n",
      "only showing top 20 rows\n",
      "\n"
     ]
    }
   ],
   "source": [
    "df_title_year_rating = df_title_year.select(\"year\").distinct()\n",
    "df_title_year_rating.show()"
   ]
  },
  {
   "cell_type": "code",
   "execution_count": 56,
   "metadata": {},
   "outputs": [
    {
     "data": {
      "text/plain": [
       "Text(0.5, 1.0, 'Movies distribution by year')"
      ]
     },
     "execution_count": 56,
     "metadata": {},
     "output_type": "execute_result"
    },
    {
     "data": {
      "image/png": "[encoded data removed]",
      "text/plain": [
       "<Figure size 720x3600 with 1 Axes>"
      ]
     },
     "metadata": {
      "needs_background": "light"
     },
     "output_type": "display_data"
    }
   ],
   "source": [
    "    # MOVIES DISTRIBUTION BY YEAR\n",
    "df_title_year_rating = df_title_year.select(\"year\",\"rating\")\n",
    "df_title_year_rating_group = df_title_year_rating.groupBy(\"year\").count().toPandas()\n",
    "\n",
    "fig, (ax) = plt.subplots(1, figsize=(10, 50))\n",
    "\n",
    "    # Parametrize the plot\n",
    "df_plot = df_title_year_rating_group\n",
    "color = \"lightskyblue\"\n",
    "bin_width = 0.3\n",
    "\n",
    "    #make barplot\n",
    "ax = sns.barplot(x=df_plot[\"count\"],\n",
    "                 y=df_plot[\"year\"],\n",
    "                 data=df_plot)\n",
    "    #set labels\n",
    "ax.set_xlabel('Number of ratings per year')\n",
    "ax.set_title(\"Movies distribution by year\", weight='bold')"
   ]
  },
  {
   "cell_type": "markdown",
   "metadata": {},
   "source": [
    "***"
   ]
  },
  {
   "cell_type": "markdown",
   "metadata": {},
   "source": [
    "### Users analysis"
   ]
  },
  {
   "cell_type": "code",
   "execution_count": 7,
   "metadata": {},
   "outputs": [
    {
     "name": "stdout",
     "output_type": "stream",
     "text": [
      "+------+-----+\n",
      "|userId|count|\n",
      "+------+-----+\n",
      "|123100|23715|\n",
      "|117490| 9279|\n",
      "|134596| 8381|\n",
      "|212343| 7884|\n",
      "|242683| 7515|\n",
      "|111908| 6645|\n",
      "| 77609| 6398|\n",
      "| 63783| 6346|\n",
      "|172357| 5868|\n",
      "|141955| 5810|\n",
      "|158002| 5701|\n",
      "|253511| 5356|\n",
      "| 48470| 5257|\n",
      "|183233| 5169|\n",
      "| 94843| 5130|\n",
      "| 73145| 5042|\n",
      "| 37046| 5041|\n",
      "|187986| 4951|\n",
      "|  4796| 4874|\n",
      "|236981| 4854|\n",
      "+------+-----+\n",
      "only showing top 20 rows\n",
      "\n"
     ]
    }
   ],
   "source": [
    "    # Group data by user_id, count ratings\n",
    "movie_ratings.groupBy(\"userId\") \\\n",
    "    .count() \\\n",
    "    .filter(\"`count` > 1\") \\\n",
    "    .sort(col(\"count\").desc()) \\\n",
    "    .show()"
   ]
  },
  {
   "cell_type": "markdown",
   "metadata": {},
   "source": [
    "In this case the user with the id *123100* has rated 23715 films, this is weird because is a huge amount of films. It seems that it is a movie critic or a company.\n",
    "\n",
    "So now, we are going to analyze this user. In this case we will get the top rated films and the worst rated films..."
   ]
  },
  {
   "cell_type": "code",
   "execution_count": 11,
   "metadata": {},
   "outputs": [
    {
     "name": "stdout",
     "output_type": "stream",
     "text": [
      "+-------+--------------------+------+--------------------+\n",
      "|movieId|               title|rating|              genres|\n",
      "+-------+--------------------+------+--------------------+\n",
      "|     97|Hate (Haine, La) ...|   5.0|         Crime|Drama|\n",
      "|    136|From the Journals...|   5.0|         Documentary|\n",
      "|    215|Before Sunrise (1...|   5.0|       Drama|Romance|\n",
      "|    306|Three Colors: Red...|   5.0|               Drama|\n",
      "|    307|Three Colors: Blu...|   5.0|               Drama|\n",
      "|    529|Searching for Bob...|   5.0|               Drama|\n",
      "|    530|  Second Best (1994)|   5.0|               Drama|\n",
      "|    670|World of Apu, The...|   5.0|               Drama|\n",
      "|    723|  Two Friends (1986)|   5.0|               Drama|\n",
      "|    746|Force of Evil (1948)|   5.0|           Film-Noir|\n",
      "|    854|Ballad of Narayam...|   5.0|               Drama|\n",
      "|    896|Wild Reeds (Les r...|   5.0|               Drama|\n",
      "|    907|Gay Divorcee, The...|   5.0|Comedy|Musical|Ro...|\n",
      "|    913|Maltese Falcon, T...|   5.0|   Film-Noir|Mystery|\n",
      "|    923| Citizen Kane (1941)|   5.0|       Drama|Mystery|\n",
      "|    926|All About Eve (1950)|   5.0|               Drama|\n",
      "|    942|        Laura (1944)|   5.0|Crime|Film-Noir|M...|\n",
      "|    944| Lost Horizon (1937)|   5.0|               Drama|\n",
      "|   1131|Jean de Florette ...|   5.0|       Drama|Mystery|\n",
      "|   1137|Hustler White (1996)|   5.0|             Romance|\n",
      "+-------+--------------------+------+--------------------+\n",
      "only showing top 20 rows\n",
      "\n"
     ]
    }
   ],
   "source": [
    "movie_ratings.where((movie_ratings.userId == \"123100\") & (movie_ratings.rating == \"5\")) \\\n",
    ".select(\"movieId\", \"title\", \"rating\", \"genres\").show()"
   ]
  },
  {
   "cell_type": "markdown",
   "metadata": {},
   "source": [
    "Above we can see the top rated films for the user *123100*, we can conclude that this user likes drama films like *La Haine* a 1995 French independent black-and-white drama film written, co-edited, and directed by Mathieu Kassovitz."
   ]
  },
  {
   "cell_type": "code",
   "execution_count": 13,
   "metadata": {},
   "outputs": [
    {
     "name": "stdout",
     "output_type": "stream",
     "text": [
      "+-------+--------------------+------+--------------------+\n",
      "|movieId|               title|rating|              genres|\n",
      "+-------+--------------------+------+--------------------+\n",
      "|    157|Canadian Bacon (1...|   0.5|          Comedy|War|\n",
      "|    173|  Judge Dredd (1995)|   0.5| Action|Crime|Sci-Fi|\n",
      "|    193|    Showgirls (1995)|   0.5|               Drama|\n",
      "|    315|Specialist, The (...|   0.5|Action|Drama|Thri...|\n",
      "|    544|Striking Distance...|   0.5|        Action|Crime|\n",
      "|    548|Terminal Velocity...|   0.5|Action|Mystery|Th...|\n",
      "|    704|   Quest, The (1996)|   0.5|    Action|Adventure|\n",
      "|   1062|Sunchaser, The (1...|   0.5|               Drama|\n",
      "|   2188|           54 (1998)|   0.5|               Drama|\n",
      "|   3579|I Dreamed of Afri...|   0.5|               Drama|\n",
      "|   3710|Action Jackson (1...|   0.5|Action|Comedy|Cri...|\n",
      "|   4367|Lara Croft: Tomb ...|   0.5|    Action|Adventure|\n",
      "|   4699| Original Sin (2001)|   0.5|Drama|Romance|Thr...|\n",
      "|   5471|      Perfect (1985)|   0.5|       Drama|Romance|\n",
      "|   5877|Smokers Only (Vag...|   0.5|       Drama|Romance|\n",
      "|   5925|Beast Within, The...|   0.5|              Horror|\n",
      "|   6897|Unconditional Lov...|   0.5|        Comedy|Drama|\n",
      "|   6943|Love Forbidden (D...|   0.5|               Drama|\n",
      "|   7958|  Bloody Mama (1970)|   0.5|         Crime|Drama|\n",
      "|   8858|   Apple, The (1980)|   0.5|      Musical|Sci-Fi|\n",
      "+-------+--------------------+------+--------------------+\n",
      "only showing top 20 rows\n",
      "\n"
     ]
    }
   ],
   "source": [
    "movie_ratings.where((movie_ratings.userId == \"123100\") & (movie_ratings.rating == \"0.5\")) \\\n",
    ".select(\"movieId\", \"title\", \"rating\", \"genres\").show()"
   ]
  },
  {
   "cell_type": "markdown",
   "metadata": {},
   "source": [
    "In this sample, we can conclude that this user do not like action movies such as Judge Dredd a 1995 American science fiction action film, based on the comic book character of the same name, directed by Danny Cannon, produced by Edward R. Pressman, Charles Lippincott and Beau E. L. Marks, and written by William Wisher Jr. and Steven E. de Souza. "
   ]
  },
  {
   "cell_type": "markdown",
   "metadata": {},
   "source": [
    "Find out the count of all the movies rated by their genre for a specific user."
   ]
  },
  {
   "cell_type": "code",
   "execution_count": 11,
   "metadata": {},
   "outputs": [
    {
     "name": "stdout",
     "output_type": "stream",
     "text": [
      "+------------------+-----+\n",
      "|            genres|count|\n",
      "+------------------+-----+\n",
      "|             Crime| 1465|\n",
      "|           Romance|  100|\n",
      "|          Thriller|  260|\n",
      "|         Adventure|  912|\n",
      "|             Drama| 8020|\n",
      "|               War|   38|\n",
      "|       Documentary| 2136|\n",
      "|           Fantasy|  122|\n",
      "|           Mystery|  125|\n",
      "|           Musical|   58|\n",
      "|         Animation|  583|\n",
      "|         Film-Noir|   36|\n",
      "|(no genres listed)| 1075|\n",
      "|            Horror| 1029|\n",
      "|           Western|  125|\n",
      "|            Comedy| 4815|\n",
      "|          Children|  240|\n",
      "|            Action| 2430|\n",
      "|            Sci-Fi|  134|\n",
      "+------------------+-----+\n",
      "\n"
     ]
    }
   ],
   "source": [
    "df_first_rank_genres.filter(df_first_rank_genres.userId == \"123100\") \\\n",
    "            .groupBy(df_first_rank_genres.genres) \\\n",
    "            .count() \\\n",
    "            .show()"
   ]
  },
  {
   "cell_type": "code",
   "execution_count": null,
   "metadata": {},
   "outputs": [],
   "source": []
  },
  {
   "cell_type": "code",
   "execution_count": 57,
   "metadata": {},
   "outputs": [],
   "source": [
    "sc.stop()"
   ]
  },
  {
   "cell_type": "markdown",
   "metadata": {},
   "source": [
    "***"
   ]
  },
  {
   "cell_type": "markdown",
   "metadata": {},
   "source": [
    "***"
   ]
  }
 ],
 "metadata": {
  "kernelspec": {
   "display_name": "Python 3",
   "language": "python",
   "name": "python3"
  },
  "language_info": {
   "codemirror_mode": {
    "name": "ipython",
    "version": 3
   },
   "file_extension": ".py",
   "mimetype": "text/x-python",
   "name": "python",
   "nbconvert_exporter": "python",
   "pygments_lexer": "ipython3",
   "version": "3.8.5"
  },
  "toc": {
   "base_numbering": 1,
   "nav_menu": {},
   "number_sections": true,
   "sideBar": true,
   "skip_h1_title": false,
   "title_cell": "Table of Contents",
   "title_sidebar": "Contents",
   "toc_cell": false,
   "toc_position": {},
   "toc_section_display": true,
   "toc_window_display": false
  }
 },
 "nbformat": 4,
 "nbformat_minor": 2
}
