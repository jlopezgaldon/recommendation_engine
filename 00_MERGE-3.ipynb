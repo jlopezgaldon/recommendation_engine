{
 "cells": [
  {
   "cell_type": "markdown",
   "metadata": {},
   "source": [
    "## Title"
   ]
  },
  {
   "cell_type": "markdown",
   "metadata": {},
   "source": [
    "# Data Merge"
   ]
  },
  {
   "cell_type": "markdown",
   "metadata": {},
   "source": [
    "### Description:"
   ]
  },
  {
   "cell_type": "markdown",
   "metadata": {},
   "source": [
    "In this notebook we will have a first look to the 4 initial dataset and concat them in order to work with the full dataset."
   ]
  },
  {
   "cell_type": "markdown",
   "metadata": {},
   "source": [
    "### Authors:\n",
    "\n",
    "#### Hugo Cesar Octavio del Sueldo¶\n",
    "#### Jose Lopez Galdon"
   ]
  },
  {
   "cell_type": "markdown",
   "metadata": {},
   "source": [
    "### Date:\n",
    "04/12/2020\n",
    "### Version:¶\n",
    "1.0"
   ]
  },
  {
   "cell_type": "markdown",
   "metadata": {},
   "source": [
    "## PySpark Collaborative Filtering with ALS"
   ]
  },
  {
   "cell_type": "markdown",
   "metadata": {},
   "source": [
    "Recommender System is an information filtering tool that seeks to predict which product a user will like, and based on that, recommends a few products to the users. For example, Amazon can recommend new shopping items to buy, Netflix can recommend new movies to watch, and Google can recommend news that a user might be interested in. Recommendation engines help users see items they may not know are relevant to them. The two widely used approaches for building a recommender system are the content-based filtering (CBF) and collaborative filtering (CF).\n",
    "\n",
    "To understand the concept of recommender systems, let us look at an example. The below table shows the user-item utility matrix Y where the value Rui denotes how item i has been rated by user u on a scale of 1–5. The missing entries (shown by ? in Table) are the items that have not been rated by the respective user.\n",
    "\n",
    "![](https://miro.medium.com/max/764/1*swlCZkfOdnxKJnQ1xHjIkw.png)\n",
    "\n",
    "The objective of the recommender system is to predict the ratings for these items. Then the highest rated items can be recommended to the respective users. In real world problems, the utility matrix is expected to be very sparse, as each user only encounters a small fraction of items among the vast pool of options available.\n",
    "\n"
   ]
  },
  {
   "cell_type": "markdown",
   "metadata": {
    "collapsed": true
   },
   "source": [
    "### Explicit v.s. Implicit ratings"
   ]
  },
  {
   "cell_type": "markdown",
   "metadata": {
    "collapsed": true
   },
   "source": [
    "There are two ways to gather user preference data to recommend items, the first method is to ask for **explicit** ratings from a user, typically on a concrete rating scale (such as rating a movie from one to five stars) making it easier to make extrapolations from data to predict future ratings. However, the drawback with explicit data is that it puts the responsibility of data collection on the user, who may not want to take time to enter ratings. On the other hand, **implicit** data is easy to collect in large quantities without any extra effort on the part of the user. Unfortunately, it is much more difficult to work with."
   ]
  },
  {
   "cell_type": "markdown",
   "metadata": {
    "collapsed": true
   },
   "source": [
    "### Data Sparsity and Cold Start"
   ]
  },
  {
   "cell_type": "markdown",
   "metadata": {},
   "source": [
    "In real world problems, the utility matrix is expected to be very sparse, as each user only encounters a small fraction of items among the vast pool of options available. Cold-Start problem can arise during addition of a new user or a new item where both do not have history in terms of ratings. "
   ]
  },
  {
   "cell_type": "markdown",
   "metadata": {},
   "source": [
    "### Approaches to Recommendation"
   ]
  },
  {
   "cell_type": "markdown",
   "metadata": {},
   "source": [
    "The two widely used approaches for building a recommender system are the content-based filtering (CBF) and collaborative filtering (CF), of which CBF is the most widely used.\n",
    "\n",
    "![](https://miro.medium.com/max/1400/1*EIBIiW2YiakP1ftxwPF8LA.png)\n",
    "\n",
    "The below figure illustrates the concepts of CF and CBF. The primary difference between these two approaches is that CF looks for similar users to recommend items while CBF looks for similar contents to recommend items."
   ]
  },
  {
   "cell_type": "markdown",
   "metadata": {},
   "source": [
    "### Content-based Filtering (CBF)\n",
    "\n",
    "The main idea behind CBF is to recommend items similar to the items previously liked by the user. For example, if the user have rated some items in the past, then these items are used for *user-modeling* where the user’s interests are quantified. Traditionally, the item is represented by a feature vector xi, which can be boolean or real valued, and the user is represented by a weight vector of same dimension. Given a new item x, represented in the same feature vector space, the likeliness, e.g., rating of the item is predicted using the user model.\n",
    "\n",
    "This can be achieved in two different ways:\n",
    "\n",
    "• Predicting ratings using parametric models like regression or logistic regression for multiple ratings and binary ratings respectively based on the previous ratings.\n",
    "\n",
    "• Similarity based techniques using distance measures to find similar items to the items liked by the user based on item features.\n",
    "\n",
    "CB can be applied even when a strong user-base is not built, as it depends on the item’s meta data (features) therefore does not suffer from cold-start problem. However, this also makes it computationally intensive, as similarities between each user and all the items must be computed. Since the recommendations are based on the item similarity to the item that the user already knows about, it leaves no room for serendipity and causes over specialisation. CB also ignores popularity of an item and other users feedbacks.\n",
    "\n",
    "![](https://miro.medium.com/max/1400/1*7_JHQ6-1nyHoB2ux1h0ZKw.png)"
   ]
  },
  {
   "cell_type": "markdown",
   "metadata": {},
   "source": [
    "### Collaborative filtering (CF)\n",
    "\n",
    "Collaborative filtering aggregates the past behaviour of all users. It recommends items to a user based on the items liked by another set of users whose likes (and dislikes) are similar to the user under consideration. This approach is also called the *user-user* based CF.\n",
    "\n",
    "*item-item* based CF became popular later, where to recommend an item to a user, the similarity between items liked by the user and other items are calculated. The user-user CF and item-item CF can be achieved by two different ways, **memory-based** (neighbourhood approach) and **model-based** (latent factor model approach)."
   ]
  },
  {
   "cell_type": "markdown",
   "metadata": {},
   "source": [
    "#### 1. The memory-based approach"
   ]
  },
  {
   "cell_type": "markdown",
   "metadata": {},
   "source": [
    "Neighbourhood approaches are most effective at detecting very localized relationships (neighbours), ignoring other users. But the downsides are that, first, the data gets sparse which hinders scalability, and second, they perform poorly in terms of reducing the RMSE (root-mean-squared-error) compared to other complex methods. They arrive naturally along with the user-movie (or movie-user) interaction matrix where each entry records an interaction of a user `i` and a movie `j`. In a real world setting, the vast majority of movies receive very few or even no ratings at all by users. We are looking at an extremely sparse matrix with more than 99% of entries are missing values.\n",
    "\n",
    "![](https://miro.medium.com/max/1400/1*rvCsSPh2EHj-B2HFwAgwmg.png)\n",
    "\n",
    "User-based Filtering and Item-based Filtering are the two ways to approach memory-based collaborative filtering.\n",
    "\n",
    "**User-based Filtering**: To recommend items to user u1 in the user-user based neighborhood approach first a set of users whose likes and dislikes similar to the useru1 is found using a similarity metrics which captures the intuition that sim(u1, u2) >sim(u1, u3) where user u1 and u2 are similar and user u1 and u3 are dissimilar. similar user is called the neighbourhood of user u1.\n",
    "\n",
    "![](https://miro.medium.com/max/1400/1*iVT1smbzov9Oohpw8SvmhQ.png)\n",
    "\n",
    "**Item-based Filtering**: To recommend items to user u1 in the item-item based neighborhood approach the similarity between items liked by the user andother items are calculated."
   ]
  },
  {
   "cell_type": "markdown",
   "metadata": {},
   "source": [
    "#### 2. The model-based approach\n",
    "\n",
    "Latent factor model based collaborative filtering learns the (latent) user and item profiles (both of dimension K) through matrix factorization by minimizing the RMSE (Root Mean Square Error) between the available ratings yand their predicted values yˆ. Here each item i is associated with a latent (feature) vector xi, each user u is associated with a latent (profile) vector theta(u), and the rating yˆ(ui) is expressed as\n",
    "\n",
    "![](https://miro.medium.com/max/910/1*Qz04bNnnO7xg-qgckvVs6A.png)\n",
    "\n",
    "![](https://miro.medium.com/max/1400/1*YlMGcZI9kJJL7FyKz9p7Vg.png)\n",
    "\n",
    "Latent methods deliver prediction accuracy superior to other published CF techniques. It also addresses the sparsity issue faced with other neighbourhood models in CF. The memory efficiency and ease of implementation via gradient based matrix factorization model (SVD) have made this the method of choice within the Netflix Prize competition. However, the latent factor models are only effective at estimating the association between all items at once but fails to identify strong association among a small set of closely related items."
   ]
  },
  {
   "cell_type": "markdown",
   "metadata": {},
   "source": [
    "### What is matrix factorization?\n",
    "\n",
    "In collaborative filtering, matrix factorization is the state-of-the-art solution for sparse data problem, although it has become widely known since *Netflix Prize Challenge*.\n",
    "\n",
    "![](https://miro.medium.com/max/1400/1*xMxQL_V9CWeLggrk-Uyzmg.png)\n",
    "\n",
    "What is matrix factorization? Matrix factorization is simply a family of mathematical operations for matrices in linear algebra. To be specific, a **matrix factorization** is a factorization of a matrix into a product of matrices. In the case of collaborative filtering, matrix factorization algorithms work by **decomposing** the user-item interaction matrix into the product of two **lower dimensionality rectangular matrices**. One matrix can be seen as the user matrix where rows represent users and columns are latent factors. The other matrix is the item matrix where rows are latent factors and columns represent items.\n",
    "\n",
    "How does matrix factorization solve our problems?\n",
    "\n",
    "Model learns to factorize rating matrix into user and movie representations, which allows model to predict better personalized movie ratings for users\n",
    "\n",
    "With matrix factorization, less-known movies can have rich latent representations as much as popular movies have, which improves recommender’s ability to recommend less-known movies\n",
    "\n",
    "In the sparse user-item interaction matrix, the predicted rating user `u` will give item `i` is computed as:\n",
    "\n",
    "![](https://miro.medium.com/max/676/1*EwHsfRtda-N-IUj-lMtQpg.png)\n",
    "\n",
    "Rating of item `i` given by user `u` can be expressed as a dot product of the user latent vector and the item latent vector.\n",
    "\n",
    "Notice in above formula, the number of **latent factors** can be tuned via cross-validation. **Latent factors** are the features in the lower dimension latent space projected from user-item interaction matrix. The idea behind matrix factorization is to use latent factors to represent user preferences or movie topics in a much lower dimension space. Matrix factorization is one of very effective **dimension reduction** techniques in machine learning.\n",
    "\n",
    "![](https://miro.medium.com/max/1400/1*HJut9UgXP5STwpYInxvJVg.png)\n",
    "\n",
    "Very much like the concept of **components** in **PCA**, the number of latent factors determines the amount of abstract information that we want to store in a lower dimension space. A matrix factorization with one latent factor is equivalent to a *most popular or top popular* recommender (e.g. recommends the items with the most interactions without any personalization). Increasing the number of latent factors will improve personalization, until the number of factors becomes too high, at which point the model starts to overfit. A common strategy to avoid overfitting is to add **regularization terms** to the objective function.\n",
    "\n",
    "The objective of matrix factorization is to minimize the error between true rating and predicted rating:\n",
    "\n",
    "![](https://miro.medium.com/max/1100/1*Oi7FYyZc31s5x3hsk8a48Q.png)\n",
    "\n",
    "Once we have an objective function, we just need a training routine (eg, gradient descent) to complete the implementation of a matrix factorization algorithm. This implementation is actually called **Funk SVD**. It is named after Simon Funk, who he shared his findings with the research community during Netflix prize challenge in 2006.\n",
    "\n",
    "Although Funk SVD was very effective in matrix factorization with single machine during that time, it’s not **scalable** as the amount of data grows today. With terabytes or even petabytes of data, it’s impossible to load data with such size into a single machine. So we need a machine learning model (or framework) that can train on dataset spreading across from cluster of machines."
   ]
  },
  {
   "cell_type": "markdown",
   "metadata": {},
   "source": [
    "### Recommendation using Alternating Least Squares (ALS)\n",
    "\n",
    "Alternating Least Square (ALS) is also a matrix factorization algorithm and it runs itself in a parallel fashion. ALS is implemented in Apache Spark ML and built for a larges-scale collaborative filtering problems. ALS is doing a pretty good job at solving scalability and sparseness of the Ratings data, and it’s simple and scales well to very large datasets.\n",
    "\n",
    "Alternating Least Squares (ALS) matrix factorization attempts to estimate the ratings matrix R as the product of two lower-rank matrices, X and Y, i.e. X * Yt = R. Typically these approximations are called ‘factor’ matrices. The general approach is iterative. During each iteration, one of the factor matrices is held constant, while the other is solved for using least squares. The newly-solved factor matrix is then held constant while solving for the other factor matrix.\n",
    "\n",
    "One of the greatest benefits of ALS-based recommendation engines is that they can identify movies or items that users will like, even if they themselves think that they might not like them. \n",
    "\n",
    "Some high-level ideas behind ALS are:\n",
    "\n",
    "- Its objective function is slightly different than Funk SVD: ALS uses L2 regularization while Funk uses L1 regularization\n",
    "\n",
    "- Its training routine is different: ALS minimizes two loss functions alternatively; It first holds user matrix fixed and runs gradient descent with item matrix; then it holds item matrix fixed and runs gradient descent with user matrix\n",
    "\n",
    "- Its scalability: ALS runs its gradient descent in parallel across multiple partitions of the underlying training data from a cluster of machines\n",
    "\n",
    "![](https://miro.medium.com/max/1400/1*OqbfYwHNfpR0ZUsY7AH3NQ.png)\n",
    "\n",
    "Just like other machine learning algorithms, ALS has its own set of **hyper-parameters**. We probably want to tune its hyper-parameters via **hold-out validation** or **cross-validation**.\n",
    "\n",
    "Most important hyper-params in Alternating Least Square (ALS):\n",
    "\n",
    "- maxIter: the maximum number of iterations to run (defaults to 10)\n",
    "\n",
    "- rank: the number of latent factors in the model (defaults to 10)\n",
    "\n",
    "- regParam: the regularization parameter in ALS (defaults to 1.0)"
   ]
  },
  {
   "cell_type": "code",
   "execution_count": null,
   "metadata": {
    "collapsed": true
   },
   "outputs": [],
   "source": []
  },
  {
   "cell_type": "code",
   "execution_count": null,
   "metadata": {
    "collapsed": true
   },
   "outputs": [],
   "source": []
  },
  {
   "cell_type": "code",
   "execution_count": null,
   "metadata": {
    "collapsed": true
   },
   "outputs": [],
   "source": []
  },
  {
   "cell_type": "code",
   "execution_count": null,
   "metadata": {
    "collapsed": true
   },
   "outputs": [],
   "source": []
  },
  {
   "cell_type": "code",
   "execution_count": null,
   "metadata": {
    "collapsed": true
   },
   "outputs": [],
   "source": []
  }
 ],
 "metadata": {
  "kernelspec": {
   "display_name": "Python 3",
   "language": "python",
   "name": "python3"
  },
  "language_info": {
   "codemirror_mode": {
    "name": "ipython",
    "version": 3
   },
   "file_extension": ".py",
   "mimetype": "text/x-python",
   "name": "python",
   "nbconvert_exporter": "python",
   "pygments_lexer": "ipython3",
   "version": "3.5.2"
  }
 },
 "nbformat": 4,
 "nbformat_minor": 2
}
